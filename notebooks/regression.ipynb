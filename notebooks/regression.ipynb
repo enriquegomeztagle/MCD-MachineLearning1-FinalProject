{
 "cells": [
  {
   "cell_type": "markdown",
   "metadata": {
    "id": "5HRwTRBlgGLD"
   },
   "source": [
    "# Imports"
   ]
  },
  {
   "cell_type": "code",
   "execution_count": 1,
   "metadata": {
    "executionInfo": {
     "elapsed": 5,
     "status": "ok",
     "timestamp": 1750991089869,
     "user": {
      "displayName": "Enrique Ulises Báez Gómez Tagle",
      "userId": "07700873673856520178"
     },
     "user_tz": 360
    },
    "id": "e29sQR8ugK49"
   },
   "outputs": [],
   "source": [
    "# Data handling\n",
    "import numpy as np\n",
    "import pandas as pd\n",
    "\n",
    "# Visualization\n",
    "import matplotlib.pyplot as plt\n",
    "\n",
    "# Scikit-learn: model selection, preprocessing, metrics\n",
    "from sklearn.model_selection import train_test_split, GridSearchCV\n",
    "from sklearn.preprocessing import StandardScaler\n",
    "from sklearn.metrics import mean_squared_error, mean_absolute_error, r2_score\n",
    "\n",
    "# Scikit-learn: regressors and decomposition\n",
    "from sklearn.linear_model import Ridge, Lasso\n",
    "from sklearn.decomposition import PCA\n",
    "from sklearn.linear_model import LinearRegression\n",
    "from sklearn.neighbors import KNeighborsRegressor\n",
    "from sklearn.tree import DecisionTreeRegressor\n",
    "from sklearn.ensemble import RandomForestRegressor, AdaBoostRegressor\n",
    "from sklearn.neural_network import MLPRegressor\n",
    "\n",
    "# Statsmodels and Scipy\n",
    "import statsmodels.api as sm\n",
    "import scipy.stats as stats\n",
    "\n",
    "# XGBoost\n",
    "from xgboost import XGBRegressor\n",
    "\n",
    "# TensorFlow / Keras\n",
    "import tensorflow as tf\n",
    "from tensorflow import keras\n",
    "from tensorflow.keras import layers\n",
    "from tensorflow.keras.callbacks import EarlyStopping"
   ]
  },
  {
   "cell_type": "markdown",
   "metadata": {
    "id": "k-J7tduIgJ0D"
   },
   "source": [
    "# Data Prep"
   ]
  },
  {
   "cell_type": "code",
   "execution_count": 3,
   "metadata": {
    "id": "AkAamB_8cOQv"
   },
   "outputs": [],
   "source": [
    "df = pd.read_csv(\"../data/regression.csv\")"
   ]
  },
  {
   "cell_type": "code",
   "execution_count": 4,
   "metadata": {
    "id": "DP1vXRyciMfm"
   },
   "outputs": [],
   "source": [
    "df = df.dropna()"
   ]
  },
  {
   "cell_type": "code",
   "execution_count": 5,
   "metadata": {
    "id": "FoClLACyiMts"
   },
   "outputs": [],
   "source": [
    "X = df.drop(\"Y\", axis=1)\n",
    "y = df[\"Y\"]"
   ]
  },
  {
   "cell_type": "code",
   "execution_count": 6,
   "metadata": {
    "id": "fUeVJH9xiWEX"
   },
   "outputs": [],
   "source": [
    "X_train, X_test, y_train, y_test = train_test_split(\n",
    "    X, y, test_size=0.2, random_state=42\n",
    ")"
   ]
  },
  {
   "cell_type": "code",
   "execution_count": 7,
   "metadata": {
    "id": "-06PEcWjiXDb"
   },
   "outputs": [],
   "source": [
    "scaler = StandardScaler()\n",
    "X_train_scaled = scaler.fit_transform(X_train)\n",
    "X_test_scaled  = scaler.transform(X_test)"
   ]
  },
  {
   "cell_type": "code",
   "execution_count": 8,
   "metadata": {
    "id": "9c3Sav1Pinp2"
   },
   "outputs": [],
   "source": [
    "scaler = StandardScaler()\n",
    "X_train_scaled = scaler.fit_transform(X_train)\n",
    "X_test_scaled  = scaler.transform(X_test)"
   ]
  },
  {
   "cell_type": "markdown",
   "metadata": {
    "id": "sZRBUiSsgOxY"
   },
   "source": [
    "# Linear Regression"
   ]
  },
  {
   "cell_type": "code",
   "execution_count": 9,
   "metadata": {
    "id": "i3W5lOL1cNPZ"
   },
   "outputs": [],
   "source": [
    "lr = LinearRegression()\n",
    "lr.fit(X_train, y_train)\n",
    "y_pred = lr.predict(X_test)\n",
    "mse_num = mean_squared_error(y_test, y_pred)"
   ]
  },
  {
   "cell_type": "code",
   "execution_count": 10,
   "metadata": {
    "colab": {
     "base_uri": "https://localhost:8080/",
     "height": 89
    },
    "executionInfo": {
     "elapsed": 59,
     "status": "ok",
     "timestamp": 1750988509623,
     "user": {
      "displayName": "Enrique Ulises Báez Gómez Tagle",
      "userId": "07700873673856520178"
     },
     "user_tz": 360
    },
    "id": "gw9FTLmNkDRj",
    "outputId": "81809e48-a7bf-4a86-f8d9-a8b2effb9d5d"
   },
   "outputs": [
    {
     "data": {
      "application/vnd.microsoft.datawrangler.viewer.v0+json": {
       "columns": [
        {
         "name": "index",
         "rawType": "int64",
         "type": "integer"
        },
        {
         "name": "Modelo",
         "rawType": "object",
         "type": "string"
        },
        {
         "name": "MSE",
         "rawType": "float64",
         "type": "float"
        },
        {
         "name": "RMSE",
         "rawType": "float64",
         "type": "float"
        },
        {
         "name": "MAE",
         "rawType": "float64",
         "type": "float"
        },
        {
         "name": "R2",
         "rawType": "float64",
         "type": "float"
        },
        {
         "name": "N_features",
         "rawType": "int64",
         "type": "integer"
        }
       ],
       "ref": "868f6cb8-9f18-4228-b545-25041458f76e",
       "rows": [
        [
         "0",
         "Linear Regression",
         "6138.514703049397",
         "78.34867390740827",
         "61.63844090171558",
         "0.700140320263284",
         "12"
        ]
       ],
       "shape": {
        "columns": 6,
        "rows": 1
       }
      },
      "text/html": [
       "<div>\n",
       "<style scoped>\n",
       "    .dataframe tbody tr th:only-of-type {\n",
       "        vertical-align: middle;\n",
       "    }\n",
       "\n",
       "    .dataframe tbody tr th {\n",
       "        vertical-align: top;\n",
       "    }\n",
       "\n",
       "    .dataframe thead th {\n",
       "        text-align: right;\n",
       "    }\n",
       "</style>\n",
       "<table border=\"1\" class=\"dataframe\">\n",
       "  <thead>\n",
       "    <tr style=\"text-align: right;\">\n",
       "      <th></th>\n",
       "      <th>Modelo</th>\n",
       "      <th>MSE</th>\n",
       "      <th>RMSE</th>\n",
       "      <th>MAE</th>\n",
       "      <th>R2</th>\n",
       "      <th>N_features</th>\n",
       "    </tr>\n",
       "  </thead>\n",
       "  <tbody>\n",
       "    <tr>\n",
       "      <th>0</th>\n",
       "      <td>Linear Regression</td>\n",
       "      <td>6138.514703</td>\n",
       "      <td>78.348674</td>\n",
       "      <td>61.638441</td>\n",
       "      <td>0.70014</td>\n",
       "      <td>12</td>\n",
       "    </tr>\n",
       "  </tbody>\n",
       "</table>\n",
       "</div>"
      ],
      "text/plain": [
       "              Modelo          MSE       RMSE        MAE       R2  N_features\n",
       "0  Linear Regression  6138.514703  78.348674  61.638441  0.70014          12"
      ]
     },
     "execution_count": 10,
     "metadata": {},
     "output_type": "execute_result"
    }
   ],
   "source": [
    "results_reg = pd.DataFrame([\n",
    "    {\n",
    "        'Modelo': 'Linear Regression',\n",
    "        'MSE': mean_squared_error(y_test, y_pred),\n",
    "        'RMSE': np.sqrt(mean_squared_error(y_test, y_pred)),\n",
    "        'MAE': mean_absolute_error(y_test, y_pred),\n",
    "        'R2': r2_score(y_test, y_pred),\n",
    "        'N_features': len(X.columns)\n",
    "    }\n",
    "])\n",
    "results_reg"
   ]
  },
  {
   "cell_type": "code",
   "execution_count": 11,
   "metadata": {
    "colab": {
     "base_uri": "https://localhost:8080/",
     "height": 981
    },
    "executionInfo": {
     "elapsed": 519,
     "status": "ok",
     "timestamp": 1750991169785,
     "user": {
      "displayName": "Enrique Ulises Báez Gómez Tagle",
      "userId": "07700873673856520178"
     },
     "user_tz": 360
    },
    "id": "ugpTgZqKMleh",
    "outputId": "39a66c36-f15e-4b95-e187-64d63e4f8a1d"
   },
   "outputs": [
    {
     "name": "stdout",
     "output_type": "stream",
     "text": [
      "Modelo         MSE      RMSE       MAE       R2\n",
      " Ridge 6139.201206 78.353055 61.638011 0.700107\n",
      " Lasso 6135.228052 78.327697 61.628791 0.700301\n"
     ]
    },
    {
     "data": {
      "image/png": "[encoded data removed]",
      "text/plain": [
       "<Figure size 640x480 with 1 Axes>"
      ]
     },
     "metadata": {},
     "output_type": "display_data"
    },
    {
     "data": {
      "image/png": "[encoded data removed]",
      "text/plain": [
       "<Figure size 640x480 with 1 Axes>"
      ]
     },
     "metadata": {},
     "output_type": "display_data"
    }
   ],
   "source": [
    "X_train, X_test, y_train, y_test = train_test_split(\n",
    "    X, y, test_size=0.2, random_state=42\n",
    ")\n",
    "\n",
    "ridge = Ridge(alpha=1.0)\n",
    "ridge.fit(X_train, y_train)\n",
    "y_pred_ridge = ridge.predict(X_test)\n",
    "\n",
    "lasso = Lasso(alpha=0.1)\n",
    "lasso.fit(X_train, y_train)\n",
    "y_pred_lasso = lasso.predict(X_test)\n",
    "\n",
    "results = pd.DataFrame({\n",
    "    'Modelo': ['Ridge', 'Lasso'],\n",
    "    'MSE': [\n",
    "        mean_squared_error(y_test, y_pred_ridge),\n",
    "        mean_squared_error(y_test, y_pred_lasso)\n",
    "    ],\n",
    "    'RMSE': [\n",
    "        np.sqrt(mean_squared_error(y_test, y_pred_ridge)),\n",
    "        np.sqrt(mean_squared_error(y_test, y_pred_lasso))\n",
    "    ],\n",
    "    'MAE': [\n",
    "        mean_absolute_error(y_test, y_pred_ridge),\n",
    "        mean_absolute_error(y_test, y_pred_lasso)\n",
    "    ],\n",
    "    'R2': [\n",
    "        r2_score(y_test, y_pred_ridge),\n",
    "        r2_score(y_test, y_pred_lasso)\n",
    "    ]\n",
    "})\n",
    "print(results.to_string(index=False))\n",
    "\n",
    "residuals = y_test - y_pred_ridge\n",
    "plt.figure()\n",
    "stats.probplot(residuals, dist=\"norm\", plot=plt)\n",
    "plt.title(\"QQ-plot de residuos (Ridge)\")\n",
    "plt.xlabel(\"Cuantiles teóricos\")\n",
    "plt.ylabel(\"Cuantiles muestrales de residuos\")\n",
    "plt.grid(True)\n",
    "plt.show()\n",
    "\n",
    "res_lasso = y_test - y_pred_lasso\n",
    "plt.figure()\n",
    "stats.probplot(res_lasso, dist=\"norm\", plot=plt)\n",
    "plt.title(\"QQ-plot de residuos (Lasso)\")\n",
    "plt.xlabel(\"Cuantiles teóricos\")\n",
    "plt.ylabel(\"Cuantiles muestrales de residuos\")\n",
    "plt.grid(True)\n",
    "plt.show()"
   ]
  },
  {
   "cell_type": "markdown",
   "metadata": {
    "id": "xIGuQAFUkajM"
   },
   "source": [
    "# KNN"
   ]
  },
  {
   "cell_type": "code",
   "execution_count": 12,
   "metadata": {
    "id": "mlX2kitwkZ7p"
   },
   "outputs": [],
   "source": [
    "knn = KNeighborsRegressor(n_neighbors=5, weights='uniform', metric='euclidean')\n",
    "knn.fit(X_train_scaled, y_train)\n",
    "y_pred = knn.predict(X_test_scaled)"
   ]
  },
  {
   "cell_type": "code",
   "execution_count": 13,
   "metadata": {
    "id": "hut7qytTnwJn"
   },
   "outputs": [],
   "source": [
    "mse  = mean_squared_error(y_test, y_pred)\n",
    "rmse = np.sqrt(mse)\n",
    "mae  = mean_absolute_error(y_test, y_pred)\n",
    "r2  = r2_score(y_test, y_pred)"
   ]
  },
  {
   "cell_type": "code",
   "execution_count": 14,
   "metadata": {
    "colab": {
     "base_uri": "https://localhost:8080/"
    },
    "executionInfo": {
     "elapsed": 29,
     "status": "ok",
     "timestamp": 1750988510506,
     "user": {
      "displayName": "Enrique Ulises Báez Gómez Tagle",
      "userId": "07700873673856520178"
     },
     "user_tz": 360
    },
    "id": "sIaahXOJnxSw",
    "outputId": "ec60e5c8-395e-423d-aafe-d8cc67083ab8"
   },
   "outputs": [
    {
     "data": {
      "application/vnd.microsoft.datawrangler.viewer.v0+json": {
       "columns": [
        {
         "name": "index",
         "rawType": "int64",
         "type": "integer"
        },
        {
         "name": "Modelo",
         "rawType": "object",
         "type": "string"
        },
        {
         "name": "MSE",
         "rawType": "float64",
         "type": "float"
        },
        {
         "name": "RMSE",
         "rawType": "float64",
         "type": "float"
        },
        {
         "name": "MAE",
         "rawType": "float64",
         "type": "float"
        },
        {
         "name": "R2",
         "rawType": "float64",
         "type": "float"
        },
        {
         "name": "N_features",
         "rawType": "int64",
         "type": "integer"
        }
       ],
       "ref": "76535d41-8482-498b-b8d4-58f1e8d66ef6",
       "rows": [
        [
         "0",
         "Linear Regression",
         "6138.514703049397",
         "78.34867390740827",
         "61.63844090171558",
         "0.700140320263284",
         "12"
        ],
        [
         "1",
         "k-NN Regressor (k=5) escaladas",
         "10640.480296035073",
         "103.15270377471971",
         "80.95204714382575",
         "0.48022426137891117",
         "12"
        ]
       ],
       "shape": {
        "columns": 6,
        "rows": 2
       }
      },
      "text/html": [
       "<div>\n",
       "<style scoped>\n",
       "    .dataframe tbody tr th:only-of-type {\n",
       "        vertical-align: middle;\n",
       "    }\n",
       "\n",
       "    .dataframe tbody tr th {\n",
       "        vertical-align: top;\n",
       "    }\n",
       "\n",
       "    .dataframe thead th {\n",
       "        text-align: right;\n",
       "    }\n",
       "</style>\n",
       "<table border=\"1\" class=\"dataframe\">\n",
       "  <thead>\n",
       "    <tr style=\"text-align: right;\">\n",
       "      <th></th>\n",
       "      <th>Modelo</th>\n",
       "      <th>MSE</th>\n",
       "      <th>RMSE</th>\n",
       "      <th>MAE</th>\n",
       "      <th>R2</th>\n",
       "      <th>N_features</th>\n",
       "    </tr>\n",
       "  </thead>\n",
       "  <tbody>\n",
       "    <tr>\n",
       "      <th>0</th>\n",
       "      <td>Linear Regression</td>\n",
       "      <td>6138.514703</td>\n",
       "      <td>78.348674</td>\n",
       "      <td>61.638441</td>\n",
       "      <td>0.700140</td>\n",
       "      <td>12</td>\n",
       "    </tr>\n",
       "    <tr>\n",
       "      <th>1</th>\n",
       "      <td>k-NN Regressor (k=5) escaladas</td>\n",
       "      <td>10640.480296</td>\n",
       "      <td>103.152704</td>\n",
       "      <td>80.952047</td>\n",
       "      <td>0.480224</td>\n",
       "      <td>12</td>\n",
       "    </tr>\n",
       "  </tbody>\n",
       "</table>\n",
       "</div>"
      ],
      "text/plain": [
       "                           Modelo           MSE        RMSE        MAE  \\\n",
       "0               Linear Regression   6138.514703   78.348674  61.638441   \n",
       "1  k-NN Regressor (k=5) escaladas  10640.480296  103.152704  80.952047   \n",
       "\n",
       "         R2  N_features  \n",
       "0  0.700140          12  \n",
       "1  0.480224          12  "
      ]
     },
     "execution_count": 14,
     "metadata": {},
     "output_type": "execute_result"
    }
   ],
   "source": [
    "new_row = {\n",
    "    'Modelo'     : 'k-NN Regressor (k=5) escaladas',\n",
    "    'MSE'        : mse,\n",
    "    'RMSE'       : rmse,\n",
    "    'MAE'        : mae,\n",
    "    'R2'         : r2,\n",
    "    'N_features': len(X.columns)\n",
    "}\n",
    "\n",
    "results_reg = pd.concat([results_reg, pd.DataFrame([new_row])], ignore_index=True)\n",
    "results_reg"
   ]
  },
  {
   "cell_type": "markdown",
   "metadata": {
    "id": "fZXwFRRPslrQ"
   },
   "source": [
    "# KNN + PCA & GridSearch"
   ]
  },
  {
   "cell_type": "code",
   "execution_count": 15,
   "metadata": {
    "colab": {
     "base_uri": "https://localhost:8080/"
    },
    "executionInfo": {
     "elapsed": 3850,
     "status": "ok",
     "timestamp": 1750988514357,
     "user": {
      "displayName": "Enrique Ulises Báez Gómez Tagle",
      "userId": "07700873673856520178"
     },
     "user_tz": 360
    },
    "id": "IqZvxnpApZvr",
    "outputId": "4816cf87-4ee7-4c7c-885f-2d01e5dcb821"
   },
   "outputs": [
    {
     "data": {
      "application/vnd.microsoft.datawrangler.viewer.v0+json": {
       "columns": [
        {
         "name": "index",
         "rawType": "int64",
         "type": "integer"
        },
        {
         "name": "Modelo",
         "rawType": "object",
         "type": "string"
        },
        {
         "name": "MSE",
         "rawType": "float64",
         "type": "float"
        },
        {
         "name": "RMSE",
         "rawType": "float64",
         "type": "float"
        },
        {
         "name": "MAE",
         "rawType": "float64",
         "type": "float"
        },
        {
         "name": "R2",
         "rawType": "float64",
         "type": "float"
        },
        {
         "name": "N_features",
         "rawType": "int64",
         "type": "integer"
        }
       ],
       "ref": "c6ec224f-3e44-43d4-890b-1a49092d613b",
       "rows": [
        [
         "0",
         "Linear Regression",
         "6138.514703049397",
         "78.34867390740827",
         "61.63844090171558",
         "0.700140320263284",
         "12"
        ],
        [
         "1",
         "k-NN Regressor (k=5) escaladas",
         "10640.480296035073",
         "103.15270377471971",
         "80.95204714382575",
         "0.48022426137891117",
         "12"
        ],
        [
         "2",
         "k-NN grid (k=17, comp=12)",
         "9812.593252048388",
         "99.05853447355452",
         "77.47504973898383",
         "0.520665631299342",
         "12"
        ]
       ],
       "shape": {
        "columns": 6,
        "rows": 3
       }
      },
      "text/html": [
       "<div>\n",
       "<style scoped>\n",
       "    .dataframe tbody tr th:only-of-type {\n",
       "        vertical-align: middle;\n",
       "    }\n",
       "\n",
       "    .dataframe tbody tr th {\n",
       "        vertical-align: top;\n",
       "    }\n",
       "\n",
       "    .dataframe thead th {\n",
       "        text-align: right;\n",
       "    }\n",
       "</style>\n",
       "<table border=\"1\" class=\"dataframe\">\n",
       "  <thead>\n",
       "    <tr style=\"text-align: right;\">\n",
       "      <th></th>\n",
       "      <th>Modelo</th>\n",
       "      <th>MSE</th>\n",
       "      <th>RMSE</th>\n",
       "      <th>MAE</th>\n",
       "      <th>R2</th>\n",
       "      <th>N_features</th>\n",
       "    </tr>\n",
       "  </thead>\n",
       "  <tbody>\n",
       "    <tr>\n",
       "      <th>0</th>\n",
       "      <td>Linear Regression</td>\n",
       "      <td>6138.514703</td>\n",
       "      <td>78.348674</td>\n",
       "      <td>61.638441</td>\n",
       "      <td>0.700140</td>\n",
       "      <td>12</td>\n",
       "    </tr>\n",
       "    <tr>\n",
       "      <th>1</th>\n",
       "      <td>k-NN Regressor (k=5) escaladas</td>\n",
       "      <td>10640.480296</td>\n",
       "      <td>103.152704</td>\n",
       "      <td>80.952047</td>\n",
       "      <td>0.480224</td>\n",
       "      <td>12</td>\n",
       "    </tr>\n",
       "    <tr>\n",
       "      <th>2</th>\n",
       "      <td>k-NN grid (k=17, comp=12)</td>\n",
       "      <td>9812.593252</td>\n",
       "      <td>99.058534</td>\n",
       "      <td>77.475050</td>\n",
       "      <td>0.520666</td>\n",
       "      <td>12</td>\n",
       "    </tr>\n",
       "  </tbody>\n",
       "</table>\n",
       "</div>"
      ],
      "text/plain": [
       "                           Modelo           MSE        RMSE        MAE  \\\n",
       "0               Linear Regression   6138.514703   78.348674  61.638441   \n",
       "1  k-NN Regressor (k=5) escaladas  10640.480296  103.152704  80.952047   \n",
       "2       k-NN grid (k=17, comp=12)   9812.593252   99.058534  77.475050   \n",
       "\n",
       "         R2  N_features  \n",
       "0  0.700140          12  \n",
       "1  0.480224          12  \n",
       "2  0.520666          12  "
      ]
     },
     "execution_count": 15,
     "metadata": {},
     "output_type": "execute_result"
    }
   ],
   "source": [
    "param_grid = {\n",
    "    'n_neighbors': [3, 7,13, 17, 25],\n",
    "    'weights'    : ['uniform', 'distance']\n",
    "}\n",
    "\n",
    "n_feats    = X_train_scaled.shape[1]\n",
    "components = [n_feats, int(0.75*n_feats), int(0.50*n_feats), int(0.25*n_feats)]\n",
    "\n",
    "best = {'cv_mse': np.inf}\n",
    "\n",
    "for n_comp in components:\n",
    "    pca = PCA(n_components=n_comp).fit(X_train_scaled)\n",
    "    Xtr = pca.transform(X_train_scaled)\n",
    "    Xte = pca.transform(X_test_scaled)\n",
    "\n",
    "    knn_cv = GridSearchCV(\n",
    "        KNeighborsRegressor(metric='euclidean'),\n",
    "        param_grid,\n",
    "        cv=5,\n",
    "        scoring='neg_mean_squared_error',\n",
    "        n_jobs=-1,\n",
    "        verbose=0\n",
    "    )\n",
    "    knn_cv.fit(Xtr, y_train)\n",
    "\n",
    "    cv_mse = -knn_cv.best_score_\n",
    "    y_pred = knn_cv.predict(Xte)\n",
    "    test_mse  = mean_squared_error(y_test, y_pred)\n",
    "    test_rmse = np.sqrt(test_mse)\n",
    "    test_mae  = mean_absolute_error(y_test, y_pred)\n",
    "    test_r2   = r2_score(y_test, y_pred)\n",
    "\n",
    "    if cv_mse < best['cv_mse']:\n",
    "        best.update({\n",
    "            'n_comp'    : n_comp,\n",
    "            'params'    : knn_cv.best_params_,\n",
    "            'cv_mse'    : cv_mse,\n",
    "            'test_mse'  : test_mse,\n",
    "            'test_rmse' : test_rmse,\n",
    "            'test_mae'  : test_mae,\n",
    "            'test_r2'   : test_r2\n",
    "        })\n",
    "\n",
    "new_row = {\n",
    "    'Modelo'    : f\"k-NN grid (k={best['params']['n_neighbors']}, comp={best['n_comp']})\",\n",
    "    'MSE'       : best['test_mse'],\n",
    "    'RMSE'      : best['test_rmse'],\n",
    "    'MAE'       : best['test_mae'],\n",
    "    'R2'        : best['test_r2'],\n",
    "    'N_features': best['n_comp']\n",
    "}\n",
    "\n",
    "results_reg = pd.concat([results_reg, pd.DataFrame([new_row])], ignore_index=True)\n",
    "results_reg"
   ]
  },
  {
   "cell_type": "markdown",
   "metadata": {
    "id": "uCwvTWUqs819"
   },
   "source": [
    "# OLS"
   ]
  },
  {
   "cell_type": "code",
   "execution_count": 16,
   "metadata": {
    "colab": {
     "base_uri": "https://localhost:8080/"
    },
    "executionInfo": {
     "elapsed": 13,
     "status": "ok",
     "timestamp": 1750988514360,
     "user": {
      "displayName": "Enrique Ulises Báez Gómez Tagle",
      "userId": "07700873673856520178"
     },
     "user_tz": 360
    },
    "id": "z1PZKZ4etXMg",
    "outputId": "2fa2336f-fe5e-4c9a-cdae-0dd92f80e9d2"
   },
   "outputs": [
    {
     "data": {
      "application/vnd.microsoft.datawrangler.viewer.v0+json": {
       "columns": [
        {
         "name": "index",
         "rawType": "int64",
         "type": "integer"
        },
        {
         "name": "Modelo",
         "rawType": "object",
         "type": "string"
        },
        {
         "name": "MSE",
         "rawType": "float64",
         "type": "float"
        },
        {
         "name": "RMSE",
         "rawType": "float64",
         "type": "float"
        },
        {
         "name": "MAE",
         "rawType": "float64",
         "type": "float"
        },
        {
         "name": "R2",
         "rawType": "float64",
         "type": "float"
        },
        {
         "name": "N_features",
         "rawType": "int64",
         "type": "integer"
        }
       ],
       "ref": "25a771a4-53db-48d3-9b96-5b6a5d220c62",
       "rows": [
        [
         "0",
         "Linear Regression",
         "6138.514703049397",
         "78.34867390740827",
         "61.63844090171558",
         "0.700140320263284",
         "12"
        ],
        [
         "1",
         "k-NN Regressor (k=5) escaladas",
         "10640.480296035073",
         "103.15270377471971",
         "80.95204714382575",
         "0.48022426137891117",
         "12"
        ],
        [
         "2",
         "k-NN grid (k=17, comp=12)",
         "9812.593252048388",
         "99.05853447355452",
         "77.47504973898383",
         "0.520665631299342",
         "12"
        ],
        [
         "3",
         "OLS Regression escaladas",
         "6138.514703050962",
         "78.34867390741826",
         "61.638440901721246",
         "0.7001403202632075",
         "12"
        ]
       ],
       "shape": {
        "columns": 6,
        "rows": 4
       }
      },
      "text/html": [
       "<div>\n",
       "<style scoped>\n",
       "    .dataframe tbody tr th:only-of-type {\n",
       "        vertical-align: middle;\n",
       "    }\n",
       "\n",
       "    .dataframe tbody tr th {\n",
       "        vertical-align: top;\n",
       "    }\n",
       "\n",
       "    .dataframe thead th {\n",
       "        text-align: right;\n",
       "    }\n",
       "</style>\n",
       "<table border=\"1\" class=\"dataframe\">\n",
       "  <thead>\n",
       "    <tr style=\"text-align: right;\">\n",
       "      <th></th>\n",
       "      <th>Modelo</th>\n",
       "      <th>MSE</th>\n",
       "      <th>RMSE</th>\n",
       "      <th>MAE</th>\n",
       "      <th>R2</th>\n",
       "      <th>N_features</th>\n",
       "    </tr>\n",
       "  </thead>\n",
       "  <tbody>\n",
       "    <tr>\n",
       "      <th>0</th>\n",
       "      <td>Linear Regression</td>\n",
       "      <td>6138.514703</td>\n",
       "      <td>78.348674</td>\n",
       "      <td>61.638441</td>\n",
       "      <td>0.700140</td>\n",
       "      <td>12</td>\n",
       "    </tr>\n",
       "    <tr>\n",
       "      <th>1</th>\n",
       "      <td>k-NN Regressor (k=5) escaladas</td>\n",
       "      <td>10640.480296</td>\n",
       "      <td>103.152704</td>\n",
       "      <td>80.952047</td>\n",
       "      <td>0.480224</td>\n",
       "      <td>12</td>\n",
       "    </tr>\n",
       "    <tr>\n",
       "      <th>2</th>\n",
       "      <td>k-NN grid (k=17, comp=12)</td>\n",
       "      <td>9812.593252</td>\n",
       "      <td>99.058534</td>\n",
       "      <td>77.475050</td>\n",
       "      <td>0.520666</td>\n",
       "      <td>12</td>\n",
       "    </tr>\n",
       "    <tr>\n",
       "      <th>3</th>\n",
       "      <td>OLS Regression escaladas</td>\n",
       "      <td>6138.514703</td>\n",
       "      <td>78.348674</td>\n",
       "      <td>61.638441</td>\n",
       "      <td>0.700140</td>\n",
       "      <td>12</td>\n",
       "    </tr>\n",
       "  </tbody>\n",
       "</table>\n",
       "</div>"
      ],
      "text/plain": [
       "                           Modelo           MSE        RMSE        MAE  \\\n",
       "0               Linear Regression   6138.514703   78.348674  61.638441   \n",
       "1  k-NN Regressor (k=5) escaladas  10640.480296  103.152704  80.952047   \n",
       "2       k-NN grid (k=17, comp=12)   9812.593252   99.058534  77.475050   \n",
       "3        OLS Regression escaladas   6138.514703   78.348674  61.638441   \n",
       "\n",
       "         R2  N_features  \n",
       "0  0.700140          12  \n",
       "1  0.480224          12  \n",
       "2  0.520666          12  \n",
       "3  0.700140          12  "
      ]
     },
     "metadata": {},
     "output_type": "display_data"
    },
    {
     "name": "stdout",
     "output_type": "stream",
     "text": [
      "                            OLS Regression Results                            \n",
      "==============================================================================\n",
      "Dep. Variable:                      Y   R-squared:                       0.725\n",
      "Model:                            OLS   Adj. R-squared:                  0.722\n",
      "Method:                 Least Squares   F-statistic:                     256.1\n",
      "Date:                Thu, 26 Jun 2025   Prob (F-statistic):          2.28e-316\n",
      "Time:                        20:36:21   Log-Likelihood:                -6762.1\n",
      "No. Observations:                1178   AIC:                         1.355e+04\n",
      "Df Residuals:                    1165   BIC:                         1.362e+04\n",
      "Df Model:                          12                                         \n",
      "Covariance Type:            nonrobust                                         \n",
      "==============================================================================\n",
      "                 coef    std err          t      P>|t|      [0.025      0.975]\n",
      "------------------------------------------------------------------------------\n",
      "const         -2.3697      2.206     -1.074      0.283      -6.698       1.958\n",
      "x1            -0.4162      2.217     -0.188      0.851      -4.766       3.933\n",
      "x2             5.2817      2.218      2.381      0.017       0.930       9.634\n",
      "x3            67.1600      2.215     30.327      0.000      62.815      71.505\n",
      "x4             0.9542      2.210      0.432      0.666      -3.381       5.290\n",
      "x5            40.3338      2.220     18.166      0.000      35.978      44.690\n",
      "x6             3.8796      2.219      1.749      0.081      -0.473       8.233\n",
      "x7             8.9022      2.220      4.010      0.000       4.547      13.257\n",
      "x8             7.9245      2.212      3.583      0.000       3.585      12.264\n",
      "x9            29.0109      2.220     13.066      0.000      24.654      33.367\n",
      "x10           20.5627      2.220      9.262      0.000      16.207      24.919\n",
      "x11           71.4295      2.219     32.195      0.000      67.077      75.782\n",
      "x12           46.1045      2.218     20.786      0.000      41.753      50.456\n",
      "==============================================================================\n",
      "Omnibus:                        1.775   Durbin-Watson:                   1.924\n",
      "Prob(Omnibus):                  0.412   Jarque-Bera (JB):                1.651\n",
      "Skew:                          -0.080   Prob(JB):                        0.438\n",
      "Kurtosis:                       3.088   Cond. No.                         1.17\n",
      "==============================================================================\n",
      "\n",
      "Notes:\n",
      "[1] Standard Errors assume that the covariance matrix of the errors is correctly specified.\n"
     ]
    }
   ],
   "source": [
    "X_train_ols = sm.add_constant(X_train_scaled)\n",
    "X_test_ols  = sm.add_constant(X_test_scaled)\n",
    "\n",
    "ols = sm.OLS(y_train, X_train_ols).fit()\n",
    "y_pred_ols = ols.predict(X_test_ols)\n",
    "\n",
    "mse_ols  = mean_squared_error(y_test, y_pred_ols)\n",
    "rmse_ols = np.sqrt(mse_ols)\n",
    "mae_ols  = mean_absolute_error(y_test, y_pred_ols)\n",
    "r2_ols   = r2_score(y_test, y_pred_ols)\n",
    "\n",
    "new_row = {\n",
    "    'Modelo'     : 'OLS Regression escaladas',\n",
    "    'MSE'         : mse_ols,\n",
    "    'RMSE'        : rmse_ols,\n",
    "    'MAE'         : mae_ols,\n",
    "    'R2'          : r2_ols,\n",
    "    'N_features'  : len(X.columns)\n",
    "}\n",
    "\n",
    "results_reg = pd.concat([results_reg, pd.DataFrame([new_row])], ignore_index=True)\n",
    "display(results_reg)\n",
    "\n",
    "print(ols.summary())"
   ]
  },
  {
   "cell_type": "markdown",
   "metadata": {
    "id": "PtZ0a8x8t62a"
   },
   "source": [
    "# Decision Tree"
   ]
  },
  {
   "cell_type": "code",
   "execution_count": 17,
   "metadata": {
    "colab": {
     "base_uri": "https://localhost:8080/"
    },
    "executionInfo": {
     "elapsed": 101,
     "status": "ok",
     "timestamp": 1750988514460,
     "user": {
      "displayName": "Enrique Ulises Báez Gómez Tagle",
      "userId": "07700873673856520178"
     },
     "user_tz": 360
    },
    "id": "3n71R5B1t-fL",
    "outputId": "9991d334-5a40-4c9f-82c9-6d6a8c39e873"
   },
   "outputs": [
    {
     "data": {
      "application/vnd.microsoft.datawrangler.viewer.v0+json": {
       "columns": [
        {
         "name": "index",
         "rawType": "int64",
         "type": "integer"
        },
        {
         "name": "Modelo",
         "rawType": "object",
         "type": "string"
        },
        {
         "name": "MSE",
         "rawType": "float64",
         "type": "float"
        },
        {
         "name": "RMSE",
         "rawType": "float64",
         "type": "float"
        },
        {
         "name": "MAE",
         "rawType": "float64",
         "type": "float"
        },
        {
         "name": "R2",
         "rawType": "float64",
         "type": "float"
        },
        {
         "name": "N_features",
         "rawType": "int64",
         "type": "integer"
        }
       ],
       "ref": "c1db5d15-9e2c-4bfc-a26a-0faf41d61a01",
       "rows": [
        [
         "0",
         "Linear Regression",
         "6138.514703049397",
         "78.34867390740827",
         "61.63844090171558",
         "0.700140320263284",
         "12"
        ],
        [
         "1",
         "k-NN Regressor (k=5) escaladas",
         "10640.480296035073",
         "103.15270377471971",
         "80.95204714382575",
         "0.48022426137891117",
         "12"
        ],
        [
         "2",
         "k-NN grid (k=17, comp=12)",
         "9812.593252048388",
         "99.05853447355452",
         "77.47504973898383",
         "0.520665631299342",
         "12"
        ],
        [
         "3",
         "OLS Regression escaladas",
         "6138.514703050962",
         "78.34867390741826",
         "61.638440901721246",
         "0.7001403202632075",
         "12"
        ],
        [
         "4",
         "Decision Tree escaladas",
         "16578.44616230002",
         "128.75731498559614",
         "103.57486324045763",
         "0.19016117135140975",
         "12"
        ]
       ],
       "shape": {
        "columns": 6,
        "rows": 5
       }
      },
      "text/html": [
       "<div>\n",
       "<style scoped>\n",
       "    .dataframe tbody tr th:only-of-type {\n",
       "        vertical-align: middle;\n",
       "    }\n",
       "\n",
       "    .dataframe tbody tr th {\n",
       "        vertical-align: top;\n",
       "    }\n",
       "\n",
       "    .dataframe thead th {\n",
       "        text-align: right;\n",
       "    }\n",
       "</style>\n",
       "<table border=\"1\" class=\"dataframe\">\n",
       "  <thead>\n",
       "    <tr style=\"text-align: right;\">\n",
       "      <th></th>\n",
       "      <th>Modelo</th>\n",
       "      <th>MSE</th>\n",
       "      <th>RMSE</th>\n",
       "      <th>MAE</th>\n",
       "      <th>R2</th>\n",
       "      <th>N_features</th>\n",
       "    </tr>\n",
       "  </thead>\n",
       "  <tbody>\n",
       "    <tr>\n",
       "      <th>0</th>\n",
       "      <td>Linear Regression</td>\n",
       "      <td>6138.514703</td>\n",
       "      <td>78.348674</td>\n",
       "      <td>61.638441</td>\n",
       "      <td>0.700140</td>\n",
       "      <td>12</td>\n",
       "    </tr>\n",
       "    <tr>\n",
       "      <th>1</th>\n",
       "      <td>k-NN Regressor (k=5) escaladas</td>\n",
       "      <td>10640.480296</td>\n",
       "      <td>103.152704</td>\n",
       "      <td>80.952047</td>\n",
       "      <td>0.480224</td>\n",
       "      <td>12</td>\n",
       "    </tr>\n",
       "    <tr>\n",
       "      <th>2</th>\n",
       "      <td>k-NN grid (k=17, comp=12)</td>\n",
       "      <td>9812.593252</td>\n",
       "      <td>99.058534</td>\n",
       "      <td>77.475050</td>\n",
       "      <td>0.520666</td>\n",
       "      <td>12</td>\n",
       "    </tr>\n",
       "    <tr>\n",
       "      <th>3</th>\n",
       "      <td>OLS Regression escaladas</td>\n",
       "      <td>6138.514703</td>\n",
       "      <td>78.348674</td>\n",
       "      <td>61.638441</td>\n",
       "      <td>0.700140</td>\n",
       "      <td>12</td>\n",
       "    </tr>\n",
       "    <tr>\n",
       "      <th>4</th>\n",
       "      <td>Decision Tree escaladas</td>\n",
       "      <td>16578.446162</td>\n",
       "      <td>128.757315</td>\n",
       "      <td>103.574863</td>\n",
       "      <td>0.190161</td>\n",
       "      <td>12</td>\n",
       "    </tr>\n",
       "  </tbody>\n",
       "</table>\n",
       "</div>"
      ],
      "text/plain": [
       "                           Modelo           MSE        RMSE         MAE  \\\n",
       "0               Linear Regression   6138.514703   78.348674   61.638441   \n",
       "1  k-NN Regressor (k=5) escaladas  10640.480296  103.152704   80.952047   \n",
       "2       k-NN grid (k=17, comp=12)   9812.593252   99.058534   77.475050   \n",
       "3        OLS Regression escaladas   6138.514703   78.348674   61.638441   \n",
       "4         Decision Tree escaladas  16578.446162  128.757315  103.574863   \n",
       "\n",
       "         R2  N_features  \n",
       "0  0.700140          12  \n",
       "1  0.480224          12  \n",
       "2  0.520666          12  \n",
       "3  0.700140          12  \n",
       "4  0.190161          12  "
      ]
     },
     "metadata": {},
     "output_type": "display_data"
    }
   ],
   "source": [
    "dt = DecisionTreeRegressor(random_state=42)\n",
    "dt.fit(X_train_scaled, y_train)\n",
    "y_pred_dt = dt.predict(X_test_scaled)\n",
    "\n",
    "mse_dt  = mean_squared_error(y_test, y_pred_dt)\n",
    "rmse_dt = np.sqrt(mse_dt)\n",
    "mae_dt  = mean_absolute_error(y_test, y_pred_dt)\n",
    "r2_dt   = r2_score(y_test, y_pred_dt)\n",
    "\n",
    "new_row = {\n",
    "    'Modelo'    : 'Decision Tree escaladas',\n",
    "    'MSE'        : mse_dt,\n",
    "    'RMSE'       : rmse_dt,\n",
    "    'MAE'        : mae_dt,\n",
    "    'R2'         : r2_dt,\n",
    "    'N_features' : len(X.columns)\n",
    "}\n",
    "\n",
    "results_reg = pd.concat([results_reg, pd.DataFrame([new_row])],\n",
    "                        ignore_index=True)\n",
    "display(results_reg)"
   ]
  },
  {
   "cell_type": "markdown",
   "metadata": {
    "id": "VZZ2e8zutp3G"
   },
   "source": [
    "# Random Forest"
   ]
  },
  {
   "cell_type": "code",
   "execution_count": 18,
   "metadata": {
    "colab": {
     "base_uri": "https://localhost:8080/",
     "height": 238
    },
    "executionInfo": {
     "elapsed": 1497,
     "status": "ok",
     "timestamp": 1750988515914,
     "user": {
      "displayName": "Enrique Ulises Báez Gómez Tagle",
      "userId": "07700873673856520178"
     },
     "user_tz": 360
    },
    "id": "QR7vhDhVtqoJ",
    "outputId": "4f1ffe82-4030-4a2b-e0a8-fec0c4c729f9"
   },
   "outputs": [
    {
     "data": {
      "application/vnd.microsoft.datawrangler.viewer.v0+json": {
       "columns": [
        {
         "name": "index",
         "rawType": "int64",
         "type": "integer"
        },
        {
         "name": "Modelo",
         "rawType": "object",
         "type": "string"
        },
        {
         "name": "MSE",
         "rawType": "float64",
         "type": "float"
        },
        {
         "name": "RMSE",
         "rawType": "float64",
         "type": "float"
        },
        {
         "name": "MAE",
         "rawType": "float64",
         "type": "float"
        },
        {
         "name": "R2",
         "rawType": "float64",
         "type": "float"
        },
        {
         "name": "N_features",
         "rawType": "int64",
         "type": "integer"
        }
       ],
       "ref": "0e9b1b24-0e46-4f9e-ade3-4e44984da315",
       "rows": [
        [
         "0",
         "Linear Regression",
         "6138.514703049397",
         "78.34867390740827",
         "61.63844090171558",
         "0.700140320263284",
         "12"
        ],
        [
         "1",
         "k-NN Regressor (k=5) escaladas",
         "10640.480296035073",
         "103.15270377471971",
         "80.95204714382575",
         "0.48022426137891117",
         "12"
        ],
        [
         "2",
         "k-NN grid (k=17, comp=12)",
         "9812.593252048388",
         "99.05853447355452",
         "77.47504973898383",
         "0.520665631299342",
         "12"
        ],
        [
         "3",
         "OLS Regression escaladas",
         "6138.514703050962",
         "78.34867390741826",
         "61.638440901721246",
         "0.7001403202632075",
         "12"
        ],
        [
         "4",
         "Decision Tree escaladas",
         "16578.44616230002",
         "128.75731498559614",
         "103.57486324045763",
         "0.19016117135140975",
         "12"
        ],
        [
         "5",
         "Random Forest escaladas",
         "7293.616878855009",
         "85.4026748928569",
         "67.02035016883498",
         "0.6437148516840214",
         "12"
        ]
       ],
       "shape": {
        "columns": 6,
        "rows": 6
       }
      },
      "text/html": [
       "<div>\n",
       "<style scoped>\n",
       "    .dataframe tbody tr th:only-of-type {\n",
       "        vertical-align: middle;\n",
       "    }\n",
       "\n",
       "    .dataframe tbody tr th {\n",
       "        vertical-align: top;\n",
       "    }\n",
       "\n",
       "    .dataframe thead th {\n",
       "        text-align: right;\n",
       "    }\n",
       "</style>\n",
       "<table border=\"1\" class=\"dataframe\">\n",
       "  <thead>\n",
       "    <tr style=\"text-align: right;\">\n",
       "      <th></th>\n",
       "      <th>Modelo</th>\n",
       "      <th>MSE</th>\n",
       "      <th>RMSE</th>\n",
       "      <th>MAE</th>\n",
       "      <th>R2</th>\n",
       "      <th>N_features</th>\n",
       "    </tr>\n",
       "  </thead>\n",
       "  <tbody>\n",
       "    <tr>\n",
       "      <th>0</th>\n",
       "      <td>Linear Regression</td>\n",
       "      <td>6138.514703</td>\n",
       "      <td>78.348674</td>\n",
       "      <td>61.638441</td>\n",
       "      <td>0.700140</td>\n",
       "      <td>12</td>\n",
       "    </tr>\n",
       "    <tr>\n",
       "      <th>1</th>\n",
       "      <td>k-NN Regressor (k=5) escaladas</td>\n",
       "      <td>10640.480296</td>\n",
       "      <td>103.152704</td>\n",
       "      <td>80.952047</td>\n",
       "      <td>0.480224</td>\n",
       "      <td>12</td>\n",
       "    </tr>\n",
       "    <tr>\n",
       "      <th>2</th>\n",
       "      <td>k-NN grid (k=17, comp=12)</td>\n",
       "      <td>9812.593252</td>\n",
       "      <td>99.058534</td>\n",
       "      <td>77.475050</td>\n",
       "      <td>0.520666</td>\n",
       "      <td>12</td>\n",
       "    </tr>\n",
       "    <tr>\n",
       "      <th>3</th>\n",
       "      <td>OLS Regression escaladas</td>\n",
       "      <td>6138.514703</td>\n",
       "      <td>78.348674</td>\n",
       "      <td>61.638441</td>\n",
       "      <td>0.700140</td>\n",
       "      <td>12</td>\n",
       "    </tr>\n",
       "    <tr>\n",
       "      <th>4</th>\n",
       "      <td>Decision Tree escaladas</td>\n",
       "      <td>16578.446162</td>\n",
       "      <td>128.757315</td>\n",
       "      <td>103.574863</td>\n",
       "      <td>0.190161</td>\n",
       "      <td>12</td>\n",
       "    </tr>\n",
       "    <tr>\n",
       "      <th>5</th>\n",
       "      <td>Random Forest escaladas</td>\n",
       "      <td>7293.616879</td>\n",
       "      <td>85.402675</td>\n",
       "      <td>67.020350</td>\n",
       "      <td>0.643715</td>\n",
       "      <td>12</td>\n",
       "    </tr>\n",
       "  </tbody>\n",
       "</table>\n",
       "</div>"
      ],
      "text/plain": [
       "                           Modelo           MSE        RMSE         MAE  \\\n",
       "0               Linear Regression   6138.514703   78.348674   61.638441   \n",
       "1  k-NN Regressor (k=5) escaladas  10640.480296  103.152704   80.952047   \n",
       "2       k-NN grid (k=17, comp=12)   9812.593252   99.058534   77.475050   \n",
       "3        OLS Regression escaladas   6138.514703   78.348674   61.638441   \n",
       "4         Decision Tree escaladas  16578.446162  128.757315  103.574863   \n",
       "5         Random Forest escaladas   7293.616879   85.402675   67.020350   \n",
       "\n",
       "         R2  N_features  \n",
       "0  0.700140          12  \n",
       "1  0.480224          12  \n",
       "2  0.520666          12  \n",
       "3  0.700140          12  \n",
       "4  0.190161          12  \n",
       "5  0.643715          12  "
      ]
     },
     "metadata": {},
     "output_type": "display_data"
    }
   ],
   "source": [
    "rf = RandomForestRegressor(n_estimators=100, random_state=42)\n",
    "rf.fit(X_train_scaled, y_train)\n",
    "y_pred_rf = rf.predict(X_test_scaled)\n",
    "\n",
    "mse_rf  = mean_squared_error(y_test, y_pred_rf)\n",
    "rmse_rf = np.sqrt(mse_rf)\n",
    "mae_rf  = mean_absolute_error(y_test, y_pred_rf)\n",
    "r2_rf   = r2_score(y_test, y_pred_rf)\n",
    "\n",
    "new_row = {\n",
    "    'Modelo'    : 'Random Forest escaladas',\n",
    "    'MSE'        : mse_rf,\n",
    "    'RMSE'       : rmse_rf,\n",
    "    'MAE'        : mae_rf,\n",
    "    'R2'         : r2_rf,\n",
    "    'N_features' : len(X.columns)\n",
    "}\n",
    "\n",
    "results_reg = pd.concat([results_reg, pd.DataFrame([new_row])],\n",
    "                        ignore_index=True)\n",
    "display(results_reg)"
   ]
  },
  {
   "cell_type": "markdown",
   "metadata": {
    "id": "eWmyj1lovKcs"
   },
   "source": [
    "# Ada Boost"
   ]
  },
  {
   "cell_type": "code",
   "execution_count": 19,
   "metadata": {
    "colab": {
     "base_uri": "https://localhost:8080/",
     "height": 305
    },
    "executionInfo": {
     "elapsed": 60370,
     "status": "ok",
     "timestamp": 1750988576284,
     "user": {
      "displayName": "Enrique Ulises Báez Gómez Tagle",
      "userId": "07700873673856520178"
     },
     "user_tz": 360
    },
    "id": "3XO-Q3DYvNI_",
    "outputId": "e8882a59-3d1d-4cb0-fcfe-5c36b4a847b4"
   },
   "outputs": [
    {
     "name": "stdout",
     "output_type": "stream",
     "text": [
      "Fitting 5 folds for each of 27 candidates, totalling 135 fits\n",
      "Mejores parámetros AdaBoost: {'learning_rate': 1.0, 'loss': 'square', 'n_estimators': 150}\n"
     ]
    },
    {
     "data": {
      "application/vnd.microsoft.datawrangler.viewer.v0+json": {
       "columns": [
        {
         "name": "index",
         "rawType": "int64",
         "type": "integer"
        },
        {
         "name": "Modelo",
         "rawType": "object",
         "type": "string"
        },
        {
         "name": "MSE",
         "rawType": "float64",
         "type": "float"
        },
        {
         "name": "RMSE",
         "rawType": "float64",
         "type": "float"
        },
        {
         "name": "MAE",
         "rawType": "float64",
         "type": "float"
        },
        {
         "name": "R2",
         "rawType": "float64",
         "type": "float"
        },
        {
         "name": "N_features",
         "rawType": "int64",
         "type": "integer"
        }
       ],
       "ref": "7d1645cf-644d-41f7-8d6f-9cc1377ee35d",
       "rows": [
        [
         "0",
         "Linear Regression",
         "6138.514703049397",
         "78.34867390740827",
         "61.63844090171558",
         "0.700140320263284",
         "12"
        ],
        [
         "1",
         "k-NN Regressor (k=5) escaladas",
         "10640.480296035073",
         "103.15270377471971",
         "80.95204714382575",
         "0.48022426137891117",
         "12"
        ],
        [
         "2",
         "k-NN grid (k=17, comp=12)",
         "9812.593252048388",
         "99.05853447355452",
         "77.47504973898383",
         "0.520665631299342",
         "12"
        ],
        [
         "3",
         "OLS Regression escaladas",
         "6138.514703050962",
         "78.34867390741826",
         "61.638440901721246",
         "0.7001403202632075",
         "12"
        ],
        [
         "4",
         "Decision Tree escaladas",
         "16578.44616230002",
         "128.75731498559614",
         "103.57486324045763",
         "0.19016117135140975",
         "12"
        ],
        [
         "5",
         "Random Forest escaladas",
         "7293.616878855009",
         "85.4026748928569",
         "67.02035016883498",
         "0.6437148516840214",
         "12"
        ],
        [
         "6",
         "AdaBoostRegressor (grid) escaladas",
         "7793.258045795154",
         "88.27943161232493",
         "69.394143089009",
         "0.6193079311911008",
         "12"
        ]
       ],
       "shape": {
        "columns": 6,
        "rows": 7
       }
      },
      "text/html": [
       "<div>\n",
       "<style scoped>\n",
       "    .dataframe tbody tr th:only-of-type {\n",
       "        vertical-align: middle;\n",
       "    }\n",
       "\n",
       "    .dataframe tbody tr th {\n",
       "        vertical-align: top;\n",
       "    }\n",
       "\n",
       "    .dataframe thead th {\n",
       "        text-align: right;\n",
       "    }\n",
       "</style>\n",
       "<table border=\"1\" class=\"dataframe\">\n",
       "  <thead>\n",
       "    <tr style=\"text-align: right;\">\n",
       "      <th></th>\n",
       "      <th>Modelo</th>\n",
       "      <th>MSE</th>\n",
       "      <th>RMSE</th>\n",
       "      <th>MAE</th>\n",
       "      <th>R2</th>\n",
       "      <th>N_features</th>\n",
       "    </tr>\n",
       "  </thead>\n",
       "  <tbody>\n",
       "    <tr>\n",
       "      <th>0</th>\n",
       "      <td>Linear Regression</td>\n",
       "      <td>6138.514703</td>\n",
       "      <td>78.348674</td>\n",
       "      <td>61.638441</td>\n",
       "      <td>0.700140</td>\n",
       "      <td>12</td>\n",
       "    </tr>\n",
       "    <tr>\n",
       "      <th>1</th>\n",
       "      <td>k-NN Regressor (k=5) escaladas</td>\n",
       "      <td>10640.480296</td>\n",
       "      <td>103.152704</td>\n",
       "      <td>80.952047</td>\n",
       "      <td>0.480224</td>\n",
       "      <td>12</td>\n",
       "    </tr>\n",
       "    <tr>\n",
       "      <th>2</th>\n",
       "      <td>k-NN grid (k=17, comp=12)</td>\n",
       "      <td>9812.593252</td>\n",
       "      <td>99.058534</td>\n",
       "      <td>77.475050</td>\n",
       "      <td>0.520666</td>\n",
       "      <td>12</td>\n",
       "    </tr>\n",
       "    <tr>\n",
       "      <th>3</th>\n",
       "      <td>OLS Regression escaladas</td>\n",
       "      <td>6138.514703</td>\n",
       "      <td>78.348674</td>\n",
       "      <td>61.638441</td>\n",
       "      <td>0.700140</td>\n",
       "      <td>12</td>\n",
       "    </tr>\n",
       "    <tr>\n",
       "      <th>4</th>\n",
       "      <td>Decision Tree escaladas</td>\n",
       "      <td>16578.446162</td>\n",
       "      <td>128.757315</td>\n",
       "      <td>103.574863</td>\n",
       "      <td>0.190161</td>\n",
       "      <td>12</td>\n",
       "    </tr>\n",
       "    <tr>\n",
       "      <th>5</th>\n",
       "      <td>Random Forest escaladas</td>\n",
       "      <td>7293.616879</td>\n",
       "      <td>85.402675</td>\n",
       "      <td>67.020350</td>\n",
       "      <td>0.643715</td>\n",
       "      <td>12</td>\n",
       "    </tr>\n",
       "    <tr>\n",
       "      <th>6</th>\n",
       "      <td>AdaBoostRegressor (grid) escaladas</td>\n",
       "      <td>7793.258046</td>\n",
       "      <td>88.279432</td>\n",
       "      <td>69.394143</td>\n",
       "      <td>0.619308</td>\n",
       "      <td>12</td>\n",
       "    </tr>\n",
       "  </tbody>\n",
       "</table>\n",
       "</div>"
      ],
      "text/plain": [
       "                               Modelo           MSE        RMSE         MAE  \\\n",
       "0                   Linear Regression   6138.514703   78.348674   61.638441   \n",
       "1      k-NN Regressor (k=5) escaladas  10640.480296  103.152704   80.952047   \n",
       "2           k-NN grid (k=17, comp=12)   9812.593252   99.058534   77.475050   \n",
       "3            OLS Regression escaladas   6138.514703   78.348674   61.638441   \n",
       "4             Decision Tree escaladas  16578.446162  128.757315  103.574863   \n",
       "5             Random Forest escaladas   7293.616879   85.402675   67.020350   \n",
       "6  AdaBoostRegressor (grid) escaladas   7793.258046   88.279432   69.394143   \n",
       "\n",
       "         R2  N_features  \n",
       "0  0.700140          12  \n",
       "1  0.480224          12  \n",
       "2  0.520666          12  \n",
       "3  0.700140          12  \n",
       "4  0.190161          12  \n",
       "5  0.643715          12  \n",
       "6  0.619308          12  "
      ]
     },
     "metadata": {},
     "output_type": "display_data"
    }
   ],
   "source": [
    "param_grid_ada = {\n",
    "    'n_estimators'    : [50, 100, 150],\n",
    "    'learning_rate'   : [0.01, 0.1, 1.0],\n",
    "    'loss'            : ['linear', 'square', 'exponential']\n",
    "}\n",
    "\n",
    "grid_search_ada = GridSearchCV(\n",
    "    estimator=AdaBoostRegressor(random_state=42),\n",
    "    param_grid=param_grid_ada,\n",
    "    cv=5,\n",
    "    scoring='neg_mean_squared_error',\n",
    "    n_jobs=-1,\n",
    "    verbose=1\n",
    ")\n",
    "grid_search_ada.fit(X_train_scaled, y_train)\n",
    "\n",
    "best_ada    = grid_search_ada.best_estimator_\n",
    "y_pred_ada  = best_ada.predict(X_test_scaled)\n",
    "\n",
    "print(\"Mejores parámetros AdaBoost:\", grid_search_ada.best_params_)\n",
    "\n",
    "mse_ada  = mean_squared_error(y_test, y_pred_ada)\n",
    "rmse_ada = np.sqrt(mse_ada)\n",
    "mae_ada  = mean_absolute_error(y_test, y_pred_ada)\n",
    "r2_ada   = r2_score(y_test, y_pred_ada)\n",
    "\n",
    "new_row = {\n",
    "    'Modelo'     : 'AdaBoostRegressor (grid) escaladas',\n",
    "    'MSE'        : mse_ada,\n",
    "    'RMSE'       : rmse_ada,\n",
    "    'MAE'        : mae_ada,\n",
    "    'R2'         : r2_ada,\n",
    "    'N_features' : len(X.columns)\n",
    "}\n",
    "results_reg = pd.concat([results_reg, pd.DataFrame([new_row])], ignore_index=True)\n",
    "display(results_reg)"
   ]
  },
  {
   "cell_type": "markdown",
   "metadata": {
    "id": "Q-eXeEghvNXQ"
   },
   "source": [
    "# XGBoost"
   ]
  },
  {
   "cell_type": "code",
   "execution_count": 20,
   "metadata": {
    "colab": {
     "base_uri": "https://localhost:8080/",
     "height": 336
    },
    "executionInfo": {
     "elapsed": 89379,
     "status": "ok",
     "timestamp": 1750988665681,
     "user": {
      "displayName": "Enrique Ulises Báez Gómez Tagle",
      "userId": "07700873673856520178"
     },
     "user_tz": 360
    },
    "id": "qZBoeGFxvQGD",
    "outputId": "accd17f3-0947-4a26-f555-2bd65b910aa3"
   },
   "outputs": [
    {
     "name": "stdout",
     "output_type": "stream",
     "text": [
      "Fitting 5 folds for each of 54 candidates, totalling 270 fits\n",
      "Mejores parámetros XGBoost: {'learning_rate': 0.1, 'max_depth': 3, 'n_estimators': 100, 'subsample': 0.8}\n"
     ]
    },
    {
     "data": {
      "application/vnd.microsoft.datawrangler.viewer.v0+json": {
       "columns": [
        {
         "name": "index",
         "rawType": "int64",
         "type": "integer"
        },
        {
         "name": "Modelo",
         "rawType": "object",
         "type": "string"
        },
        {
         "name": "MSE",
         "rawType": "float64",
         "type": "float"
        },
        {
         "name": "RMSE",
         "rawType": "float64",
         "type": "float"
        },
        {
         "name": "MAE",
         "rawType": "float64",
         "type": "float"
        },
        {
         "name": "R2",
         "rawType": "float64",
         "type": "float"
        },
        {
         "name": "N_features",
         "rawType": "int64",
         "type": "integer"
        }
       ],
       "ref": "ea107a5d-2d4a-4081-8f64-28dce9b7342e",
       "rows": [
        [
         "0",
         "Linear Regression",
         "6138.514703049397",
         "78.34867390740827",
         "61.63844090171558",
         "0.700140320263284",
         "12"
        ],
        [
         "1",
         "k-NN Regressor (k=5) escaladas",
         "10640.480296035073",
         "103.15270377471971",
         "80.95204714382575",
         "0.48022426137891117",
         "12"
        ],
        [
         "2",
         "k-NN grid (k=17, comp=12)",
         "9812.593252048388",
         "99.05853447355452",
         "77.47504973898383",
         "0.520665631299342",
         "12"
        ],
        [
         "3",
         "OLS Regression escaladas",
         "6138.514703050962",
         "78.34867390741826",
         "61.638440901721246",
         "0.7001403202632075",
         "12"
        ],
        [
         "4",
         "Decision Tree escaladas",
         "16578.44616230002",
         "128.75731498559614",
         "103.57486324045763",
         "0.19016117135140975",
         "12"
        ],
        [
         "5",
         "Random Forest escaladas",
         "7293.616878855009",
         "85.4026748928569",
         "67.02035016883498",
         "0.6437148516840214",
         "12"
        ],
        [
         "6",
         "AdaBoostRegressor (grid) escaladas",
         "7793.258045795154",
         "88.27943161232493",
         "69.394143089009",
         "0.6193079311911008",
         "12"
        ],
        [
         "7",
         "XGBRegressor (grid) escaladas",
         "6939.093852037422",
         "83.30122359267853",
         "64.6916684542059",
         "0.6610329109252909",
         "12"
        ]
       ],
       "shape": {
        "columns": 6,
        "rows": 8
       }
      },
      "text/html": [
       "<div>\n",
       "<style scoped>\n",
       "    .dataframe tbody tr th:only-of-type {\n",
       "        vertical-align: middle;\n",
       "    }\n",
       "\n",
       "    .dataframe tbody tr th {\n",
       "        vertical-align: top;\n",
       "    }\n",
       "\n",
       "    .dataframe thead th {\n",
       "        text-align: right;\n",
       "    }\n",
       "</style>\n",
       "<table border=\"1\" class=\"dataframe\">\n",
       "  <thead>\n",
       "    <tr style=\"text-align: right;\">\n",
       "      <th></th>\n",
       "      <th>Modelo</th>\n",
       "      <th>MSE</th>\n",
       "      <th>RMSE</th>\n",
       "      <th>MAE</th>\n",
       "      <th>R2</th>\n",
       "      <th>N_features</th>\n",
       "    </tr>\n",
       "  </thead>\n",
       "  <tbody>\n",
       "    <tr>\n",
       "      <th>0</th>\n",
       "      <td>Linear Regression</td>\n",
       "      <td>6138.514703</td>\n",
       "      <td>78.348674</td>\n",
       "      <td>61.638441</td>\n",
       "      <td>0.700140</td>\n",
       "      <td>12</td>\n",
       "    </tr>\n",
       "    <tr>\n",
       "      <th>1</th>\n",
       "      <td>k-NN Regressor (k=5) escaladas</td>\n",
       "      <td>10640.480296</td>\n",
       "      <td>103.152704</td>\n",
       "      <td>80.952047</td>\n",
       "      <td>0.480224</td>\n",
       "      <td>12</td>\n",
       "    </tr>\n",
       "    <tr>\n",
       "      <th>2</th>\n",
       "      <td>k-NN grid (k=17, comp=12)</td>\n",
       "      <td>9812.593252</td>\n",
       "      <td>99.058534</td>\n",
       "      <td>77.475050</td>\n",
       "      <td>0.520666</td>\n",
       "      <td>12</td>\n",
       "    </tr>\n",
       "    <tr>\n",
       "      <th>3</th>\n",
       "      <td>OLS Regression escaladas</td>\n",
       "      <td>6138.514703</td>\n",
       "      <td>78.348674</td>\n",
       "      <td>61.638441</td>\n",
       "      <td>0.700140</td>\n",
       "      <td>12</td>\n",
       "    </tr>\n",
       "    <tr>\n",
       "      <th>4</th>\n",
       "      <td>Decision Tree escaladas</td>\n",
       "      <td>16578.446162</td>\n",
       "      <td>128.757315</td>\n",
       "      <td>103.574863</td>\n",
       "      <td>0.190161</td>\n",
       "      <td>12</td>\n",
       "    </tr>\n",
       "    <tr>\n",
       "      <th>5</th>\n",
       "      <td>Random Forest escaladas</td>\n",
       "      <td>7293.616879</td>\n",
       "      <td>85.402675</td>\n",
       "      <td>67.020350</td>\n",
       "      <td>0.643715</td>\n",
       "      <td>12</td>\n",
       "    </tr>\n",
       "    <tr>\n",
       "      <th>6</th>\n",
       "      <td>AdaBoostRegressor (grid) escaladas</td>\n",
       "      <td>7793.258046</td>\n",
       "      <td>88.279432</td>\n",
       "      <td>69.394143</td>\n",
       "      <td>0.619308</td>\n",
       "      <td>12</td>\n",
       "    </tr>\n",
       "    <tr>\n",
       "      <th>7</th>\n",
       "      <td>XGBRegressor (grid) escaladas</td>\n",
       "      <td>6939.093852</td>\n",
       "      <td>83.301224</td>\n",
       "      <td>64.691668</td>\n",
       "      <td>0.661033</td>\n",
       "      <td>12</td>\n",
       "    </tr>\n",
       "  </tbody>\n",
       "</table>\n",
       "</div>"
      ],
      "text/plain": [
       "                               Modelo           MSE        RMSE         MAE  \\\n",
       "0                   Linear Regression   6138.514703   78.348674   61.638441   \n",
       "1      k-NN Regressor (k=5) escaladas  10640.480296  103.152704   80.952047   \n",
       "2           k-NN grid (k=17, comp=12)   9812.593252   99.058534   77.475050   \n",
       "3            OLS Regression escaladas   6138.514703   78.348674   61.638441   \n",
       "4             Decision Tree escaladas  16578.446162  128.757315  103.574863   \n",
       "5             Random Forest escaladas   7293.616879   85.402675   67.020350   \n",
       "6  AdaBoostRegressor (grid) escaladas   7793.258046   88.279432   69.394143   \n",
       "7       XGBRegressor (grid) escaladas   6939.093852   83.301224   64.691668   \n",
       "\n",
       "         R2  N_features  \n",
       "0  0.700140          12  \n",
       "1  0.480224          12  \n",
       "2  0.520666          12  \n",
       "3  0.700140          12  \n",
       "4  0.190161          12  \n",
       "5  0.643715          12  \n",
       "6  0.619308          12  \n",
       "7  0.661033          12  "
      ]
     },
     "metadata": {},
     "output_type": "display_data"
    }
   ],
   "source": [
    "param_grid_xgb = {\n",
    "    'n_estimators'  : [50, 100, 150],\n",
    "    'learning_rate' : [0.01, 0.1, 0.2],\n",
    "    'max_depth'     : [3, 5, 7],\n",
    "    'subsample'     : [0.8, 1.0]\n",
    "}\n",
    "\n",
    "grid_search_xgb = GridSearchCV(\n",
    "    estimator=XGBRegressor(\n",
    "        objective='reg:squarederror', random_state=42,\n",
    "    ),\n",
    "    param_grid=param_grid_xgb,\n",
    "    cv=5,\n",
    "    scoring='neg_mean_squared_error',\n",
    "    n_jobs=-1,\n",
    "    verbose=1\n",
    ")\n",
    "grid_search_xgb.fit(X_train_scaled, y_train)\n",
    "\n",
    "best_xgb    = grid_search_xgb.best_estimator_\n",
    "y_pred_xgb  = best_xgb.predict(X_test_scaled)\n",
    "\n",
    "print(\"Mejores parámetros XGBoost:\", grid_search_xgb.best_params_)\n",
    "\n",
    "mse_xgb  = mean_squared_error(y_test, y_pred_xgb)\n",
    "rmse_xgb = np.sqrt(mse_xgb)\n",
    "mae_xgb  = mean_absolute_error(y_test, y_pred_xgb)\n",
    "r2_xgb   = r2_score(y_test, y_pred_xgb)\n",
    "\n",
    "new_row = {\n",
    "    'Modelo'     : 'XGBRegressor (grid) escaladas',\n",
    "    'MSE'        : mse_xgb,\n",
    "    'RMSE'       : rmse_xgb,\n",
    "    'MAE'        : mae_xgb,\n",
    "    'R2'         : r2_xgb,\n",
    "    'N_features' : len(X.columns)\n",
    "}\n",
    "results_reg = pd.concat([results_reg, pd.DataFrame([new_row])], ignore_index=True)\n",
    "display(results_reg)"
   ]
  },
  {
   "cell_type": "markdown",
   "metadata": {
    "id": "tGahpcp6v83b"
   },
   "source": [
    "# Redes Neuronales"
   ]
  },
  {
   "cell_type": "code",
   "execution_count": 21,
   "metadata": {
    "colab": {
     "base_uri": "https://localhost:8080/",
     "height": 1000
    },
    "executionInfo": {
     "elapsed": 23698,
     "status": "ok",
     "timestamp": 1750988689390,
     "user": {
      "displayName": "Enrique Ulises Báez Gómez Tagle",
      "userId": "07700873673856520178"
     },
     "user_tz": 360
    },
    "id": "4GLCuZkXwBdb",
    "outputId": "e6531146-ca98-4458-f46f-8bd95c62bbb4"
   },
   "outputs": [
    {
     "name": "stderr",
     "output_type": "stream",
     "text": [
      "/Users/enriquegomeztagle/anaconda3/envs/ML/lib/python3.11/site-packages/sklearn/neural_network/_multilayer_perceptron.py:546: ConvergenceWarning: lbfgs failed to converge (status=1):\n",
      "STOP: TOTAL NO. OF ITERATIONS REACHED LIMIT.\n",
      "\n",
      "Increase the number of iterations (max_iter) or scale the data as shown in:\n",
      "    https://scikit-learn.org/stable/modules/preprocessing.html\n",
      "  self.n_iter_ = _check_optimize_result(\"lbfgs\", opt_res, self.max_iter)\n"
     ]
    },
    {
     "name": "stdout",
     "output_type": "stream",
     "text": [
      "MLPRegressor MSE: 17228.6159\n",
      "MLPRegressor R²:  0.1584\n"
     ]
    },
    {
     "data": {
      "image/png": "[encoded data removed]",
      "text/plain": [
       "<Figure size 600x600 with 1 Axes>"
      ]
     },
     "metadata": {},
     "output_type": "display_data"
    },
    {
     "data": {
      "application/vnd.microsoft.datawrangler.viewer.v0+json": {
       "columns": [
        {
         "name": "index",
         "rawType": "int64",
         "type": "integer"
        },
        {
         "name": "Modelo",
         "rawType": "object",
         "type": "string"
        },
        {
         "name": "MSE",
         "rawType": "float64",
         "type": "float"
        },
        {
         "name": "RMSE",
         "rawType": "float64",
         "type": "float"
        },
        {
         "name": "MAE",
         "rawType": "float64",
         "type": "float"
        },
        {
         "name": "R2",
         "rawType": "float64",
         "type": "float"
        },
        {
         "name": "N_features",
         "rawType": "int64",
         "type": "integer"
        }
       ],
       "ref": "7ecaf477-eaff-46ba-aafd-6d8c2eb893f0",
       "rows": [
        [
         "0",
         "Linear Regression",
         "6138.514703049397",
         "78.34867390740827",
         "61.63844090171558",
         "0.700140320263284",
         "12"
        ],
        [
         "1",
         "k-NN Regressor (k=5) escaladas",
         "10640.480296035073",
         "103.15270377471971",
         "80.95204714382575",
         "0.48022426137891117",
         "12"
        ],
        [
         "2",
         "k-NN grid (k=17, comp=12)",
         "9812.593252048388",
         "99.05853447355452",
         "77.47504973898383",
         "0.520665631299342",
         "12"
        ],
        [
         "3",
         "OLS Regression escaladas",
         "6138.514703050962",
         "78.34867390741826",
         "61.638440901721246",
         "0.7001403202632075",
         "12"
        ],
        [
         "4",
         "Decision Tree escaladas",
         "16578.44616230002",
         "128.75731498559614",
         "103.57486324045763",
         "0.19016117135140975",
         "12"
        ],
        [
         "5",
         "Random Forest escaladas",
         "7293.616878855009",
         "85.4026748928569",
         "67.02035016883498",
         "0.6437148516840214",
         "12"
        ],
        [
         "6",
         "AdaBoostRegressor (grid) escaladas",
         "7793.258045795154",
         "88.27943161232493",
         "69.394143089009",
         "0.6193079311911008",
         "12"
        ],
        [
         "7",
         "XGBRegressor (grid) escaladas",
         "6939.093852037422",
         "83.30122359267853",
         "64.6916684542059",
         "0.6610329109252909",
         "12"
        ],
        [
         "8",
         "MLPRegressor",
         "17228.615924349946",
         "131.25782233585147",
         "100.25126820974832",
         "0.15840109484203235",
         "12"
        ]
       ],
       "shape": {
        "columns": 6,
        "rows": 9
       }
      },
      "text/html": [
       "<div>\n",
       "<style scoped>\n",
       "    .dataframe tbody tr th:only-of-type {\n",
       "        vertical-align: middle;\n",
       "    }\n",
       "\n",
       "    .dataframe tbody tr th {\n",
       "        vertical-align: top;\n",
       "    }\n",
       "\n",
       "    .dataframe thead th {\n",
       "        text-align: right;\n",
       "    }\n",
       "</style>\n",
       "<table border=\"1\" class=\"dataframe\">\n",
       "  <thead>\n",
       "    <tr style=\"text-align: right;\">\n",
       "      <th></th>\n",
       "      <th>Modelo</th>\n",
       "      <th>MSE</th>\n",
       "      <th>RMSE</th>\n",
       "      <th>MAE</th>\n",
       "      <th>R2</th>\n",
       "      <th>N_features</th>\n",
       "    </tr>\n",
       "  </thead>\n",
       "  <tbody>\n",
       "    <tr>\n",
       "      <th>0</th>\n",
       "      <td>Linear Regression</td>\n",
       "      <td>6138.514703</td>\n",
       "      <td>78.348674</td>\n",
       "      <td>61.638441</td>\n",
       "      <td>0.700140</td>\n",
       "      <td>12</td>\n",
       "    </tr>\n",
       "    <tr>\n",
       "      <th>1</th>\n",
       "      <td>k-NN Regressor (k=5) escaladas</td>\n",
       "      <td>10640.480296</td>\n",
       "      <td>103.152704</td>\n",
       "      <td>80.952047</td>\n",
       "      <td>0.480224</td>\n",
       "      <td>12</td>\n",
       "    </tr>\n",
       "    <tr>\n",
       "      <th>2</th>\n",
       "      <td>k-NN grid (k=17, comp=12)</td>\n",
       "      <td>9812.593252</td>\n",
       "      <td>99.058534</td>\n",
       "      <td>77.475050</td>\n",
       "      <td>0.520666</td>\n",
       "      <td>12</td>\n",
       "    </tr>\n",
       "    <tr>\n",
       "      <th>3</th>\n",
       "      <td>OLS Regression escaladas</td>\n",
       "      <td>6138.514703</td>\n",
       "      <td>78.348674</td>\n",
       "      <td>61.638441</td>\n",
       "      <td>0.700140</td>\n",
       "      <td>12</td>\n",
       "    </tr>\n",
       "    <tr>\n",
       "      <th>4</th>\n",
       "      <td>Decision Tree escaladas</td>\n",
       "      <td>16578.446162</td>\n",
       "      <td>128.757315</td>\n",
       "      <td>103.574863</td>\n",
       "      <td>0.190161</td>\n",
       "      <td>12</td>\n",
       "    </tr>\n",
       "    <tr>\n",
       "      <th>5</th>\n",
       "      <td>Random Forest escaladas</td>\n",
       "      <td>7293.616879</td>\n",
       "      <td>85.402675</td>\n",
       "      <td>67.020350</td>\n",
       "      <td>0.643715</td>\n",
       "      <td>12</td>\n",
       "    </tr>\n",
       "    <tr>\n",
       "      <th>6</th>\n",
       "      <td>AdaBoostRegressor (grid) escaladas</td>\n",
       "      <td>7793.258046</td>\n",
       "      <td>88.279432</td>\n",
       "      <td>69.394143</td>\n",
       "      <td>0.619308</td>\n",
       "      <td>12</td>\n",
       "    </tr>\n",
       "    <tr>\n",
       "      <th>7</th>\n",
       "      <td>XGBRegressor (grid) escaladas</td>\n",
       "      <td>6939.093852</td>\n",
       "      <td>83.301224</td>\n",
       "      <td>64.691668</td>\n",
       "      <td>0.661033</td>\n",
       "      <td>12</td>\n",
       "    </tr>\n",
       "    <tr>\n",
       "      <th>8</th>\n",
       "      <td>MLPRegressor</td>\n",
       "      <td>17228.615924</td>\n",
       "      <td>131.257822</td>\n",
       "      <td>100.251268</td>\n",
       "      <td>0.158401</td>\n",
       "      <td>12</td>\n",
       "    </tr>\n",
       "  </tbody>\n",
       "</table>\n",
       "</div>"
      ],
      "text/plain": [
       "                               Modelo           MSE        RMSE         MAE  \\\n",
       "0                   Linear Regression   6138.514703   78.348674   61.638441   \n",
       "1      k-NN Regressor (k=5) escaladas  10640.480296  103.152704   80.952047   \n",
       "2           k-NN grid (k=17, comp=12)   9812.593252   99.058534   77.475050   \n",
       "3            OLS Regression escaladas   6138.514703   78.348674   61.638441   \n",
       "4             Decision Tree escaladas  16578.446162  128.757315  103.574863   \n",
       "5             Random Forest escaladas   7293.616879   85.402675   67.020350   \n",
       "6  AdaBoostRegressor (grid) escaladas   7793.258046   88.279432   69.394143   \n",
       "7       XGBRegressor (grid) escaladas   6939.093852   83.301224   64.691668   \n",
       "8                        MLPRegressor  17228.615924  131.257822  100.251268   \n",
       "\n",
       "         R2  N_features  \n",
       "0  0.700140          12  \n",
       "1  0.480224          12  \n",
       "2  0.520666          12  \n",
       "3  0.700140          12  \n",
       "4  0.190161          12  \n",
       "5  0.643715          12  \n",
       "6  0.619308          12  \n",
       "7  0.661033          12  \n",
       "8  0.158401          12  "
      ]
     },
     "metadata": {},
     "output_type": "display_data"
    }
   ],
   "source": [
    "reg = MLPRegressor(\n",
    "    hidden_layer_sizes=(60,),\n",
    "    solver='lbfgs',\n",
    "    alpha=1.0,\n",
    "    random_state=1,\n",
    "    max_iter=1000\n",
    ")\n",
    "reg.fit(X_train_scaled, y_train)\n",
    "n_features = X_train_scaled.shape[1]\n",
    "\n",
    "y_pred_reg = reg.predict(X_test_scaled)\n",
    "\n",
    "mse = mean_squared_error(y_test, y_pred_reg)\n",
    "r2  = r2_score(y_test, y_pred_reg)\n",
    "print(f\"MLPRegressor MSE: {mse:.4f}\")\n",
    "print(f\"MLPRegressor R²:  {r2:.4f}\")\n",
    "\n",
    "plt.figure(figsize=(6,6))\n",
    "plt.scatter(y_test, y_pred_reg, alpha=0.6)\n",
    "plt.plot([y_test.min(), y_test.max()],\n",
    "         [y_test.min(), y_test.max()],\n",
    "         'r--', lw=2)\n",
    "plt.xlabel(\"True Targets\")\n",
    "plt.ylabel(\"Predicted Targets\")\n",
    "plt.title(\"MLPRegressor: True vs. Predicted\")\n",
    "plt.grid(True)\n",
    "plt.show()\n",
    "\n",
    "results_reg.loc[len(results_reg)] = {\n",
    "    'Modelo':    'MLPRegressor',\n",
    "    'MSE':       mean_squared_error(y_test,   y_pred_reg),\n",
    "    'RMSE':      np.sqrt(mean_squared_error(y_test,   y_pred_reg)),\n",
    "    'MAE':       mean_absolute_error(y_test,  y_pred_reg),\n",
    "    'R2':        r2_score(y_test,            y_pred_reg),\n",
    "    'N_features': n_features\n",
    "}\n",
    "\n",
    "display(results_reg)"
   ]
  },
  {
   "cell_type": "code",
   "execution_count": 22,
   "metadata": {
    "colab": {
     "base_uri": "https://localhost:8080/",
     "height": 1000
    },
    "executionInfo": {
     "elapsed": 8189,
     "status": "ok",
     "timestamp": 1750988697591,
     "user": {
      "displayName": "Enrique Ulises Báez Gómez Tagle",
      "userId": "07700873673856520178"
     },
     "user_tz": 360
    },
    "id": "nvgD26VD2gTc",
    "outputId": "a02f8a18-3482-4c1a-b003-6f2cb877feb1"
   },
   "outputs": [
    {
     "name": "stderr",
     "output_type": "stream",
     "text": [
      "/Users/enriquegomeztagle/anaconda3/envs/ML/lib/python3.11/site-packages/keras/src/layers/core/dense.py:93: UserWarning: Do not pass an `input_shape`/`input_dim` argument to a layer. When using Sequential models, prefer using an `Input(shape)` object as the first layer in the model instead.\n",
      "  super().__init__(activity_regularizer=activity_regularizer, **kwargs)\n"
     ]
    },
    {
     "name": "stdout",
     "output_type": "stream",
     "text": [
      "Epoch 1/100\n",
      "\u001b[1m59/59\u001b[0m \u001b[32m━━━━━━━━━━━━━━━━━━━━\u001b[0m\u001b[37m\u001b[0m \u001b[1m1s\u001b[0m 3ms/step - loss: 19429.8848 - mean_absolute_error: 111.0767 - val_loss: 20289.2207 - val_mean_absolute_error: 112.5766\n",
      "Epoch 2/100\n",
      "\u001b[1m59/59\u001b[0m \u001b[32m━━━━━━━━━━━━━━━━━━━━\u001b[0m\u001b[37m\u001b[0m \u001b[1m0s\u001b[0m 1ms/step - loss: 19286.1309 - mean_absolute_error: 108.2360 - val_loss: 19806.6426 - val_mean_absolute_error: 111.2844\n",
      "Epoch 3/100\n",
      "\u001b[1m59/59\u001b[0m \u001b[32m━━━━━━━━━━━━━━━━━━━━\u001b[0m\u001b[37m\u001b[0m \u001b[1m0s\u001b[0m 2ms/step - loss: 20579.1172 - mean_absolute_error: 113.0644 - val_loss: 18874.8184 - val_mean_absolute_error: 108.6872\n",
      "Epoch 4/100\n",
      "\u001b[1m59/59\u001b[0m \u001b[32m━━━━━━━━━━━━━━━━━━━━\u001b[0m\u001b[37m\u001b[0m \u001b[1m0s\u001b[0m 2ms/step - loss: 19047.1914 - mean_absolute_error: 108.3297 - val_loss: 17357.2871 - val_mean_absolute_error: 104.2612\n",
      "Epoch 5/100\n",
      "\u001b[1m59/59\u001b[0m \u001b[32m━━━━━━━━━━━━━━━━━━━━\u001b[0m\u001b[37m\u001b[0m \u001b[1m0s\u001b[0m 3ms/step - loss: 17270.4004 - mean_absolute_error: 104.6618 - val_loss: 15237.5488 - val_mean_absolute_error: 97.4573\n",
      "Epoch 6/100\n",
      "\u001b[1m59/59\u001b[0m \u001b[32m━━━━━━━━━━━━━━━━━━━━\u001b[0m\u001b[37m\u001b[0m \u001b[1m0s\u001b[0m 3ms/step - loss: 14672.7129 - mean_absolute_error: 95.8562 - val_loss: 12923.5508 - val_mean_absolute_error: 89.2519\n",
      "Epoch 7/100\n",
      "\u001b[1m59/59\u001b[0m \u001b[32m━━━━━━━━━━━━━━━━━━━━\u001b[0m\u001b[37m\u001b[0m \u001b[1m0s\u001b[0m 3ms/step - loss: 11723.9609 - mean_absolute_error: 84.3580 - val_loss: 10436.2910 - val_mean_absolute_error: 79.9274\n",
      "Epoch 8/100\n",
      "\u001b[1m59/59\u001b[0m \u001b[32m━━━━━━━━━━━━━━━━━━━━\u001b[0m\u001b[37m\u001b[0m \u001b[1m0s\u001b[0m 2ms/step - loss: 10261.5508 - mean_absolute_error: 78.3146 - val_loss: 8359.9541 - val_mean_absolute_error: 71.3009\n",
      "Epoch 9/100\n",
      "\u001b[1m59/59\u001b[0m \u001b[32m━━━━━━━━━━━━━━━━━━━━\u001b[0m\u001b[37m\u001b[0m \u001b[1m0s\u001b[0m 2ms/step - loss: 8480.8906 - mean_absolute_error: 72.8031 - val_loss: 6936.4512 - val_mean_absolute_error: 64.0104\n",
      "Epoch 10/100\n",
      "\u001b[1m59/59\u001b[0m \u001b[32m━━━━━━━━━━━━━━━━━━━━\u001b[0m\u001b[37m\u001b[0m \u001b[1m0s\u001b[0m 1ms/step - loss: 6904.8154 - mean_absolute_error: 66.9279 - val_loss: 6178.8081 - val_mean_absolute_error: 60.0091\n",
      "Epoch 11/100\n",
      "\u001b[1m59/59\u001b[0m \u001b[32m━━━━━━━━━━━━━━━━━━━━\u001b[0m\u001b[37m\u001b[0m \u001b[1m0s\u001b[0m 2ms/step - loss: 6624.9761 - mean_absolute_error: 65.6615 - val_loss: 5852.2461 - val_mean_absolute_error: 58.5222\n",
      "Epoch 12/100\n",
      "\u001b[1m59/59\u001b[0m \u001b[32m━━━━━━━━━━━━━━━━━━━━\u001b[0m\u001b[37m\u001b[0m \u001b[1m0s\u001b[0m 1ms/step - loss: 6431.1616 - mean_absolute_error: 64.0445 - val_loss: 5706.0527 - val_mean_absolute_error: 58.0441\n",
      "Epoch 13/100\n",
      "\u001b[1m59/59\u001b[0m \u001b[32m━━━━━━━━━━━━━━━━━━━━\u001b[0m\u001b[37m\u001b[0m \u001b[1m0s\u001b[0m 1ms/step - loss: 5953.6270 - mean_absolute_error: 61.9539 - val_loss: 5634.2690 - val_mean_absolute_error: 57.9979\n",
      "Epoch 14/100\n",
      "\u001b[1m59/59\u001b[0m \u001b[32m━━━━━━━━━━━━━━━━━━━━\u001b[0m\u001b[37m\u001b[0m \u001b[1m0s\u001b[0m 2ms/step - loss: 5988.6016 - mean_absolute_error: 62.4010 - val_loss: 5616.0620 - val_mean_absolute_error: 58.1801\n",
      "Epoch 15/100\n",
      "\u001b[1m59/59\u001b[0m \u001b[32m━━━━━━━━━━━━━━━━━━━━\u001b[0m\u001b[37m\u001b[0m \u001b[1m0s\u001b[0m 1ms/step - loss: 6346.8838 - mean_absolute_error: 63.0376 - val_loss: 5578.9072 - val_mean_absolute_error: 57.9864\n",
      "Epoch 16/100\n",
      "\u001b[1m59/59\u001b[0m \u001b[32m━━━━━━━━━━━━━━━━━━━━\u001b[0m\u001b[37m\u001b[0m \u001b[1m0s\u001b[0m 2ms/step - loss: 6456.8193 - mean_absolute_error: 65.2667 - val_loss: 5543.4775 - val_mean_absolute_error: 57.7983\n",
      "Epoch 17/100\n",
      "\u001b[1m59/59\u001b[0m \u001b[32m━━━━━━━━━━━━━━━━━━━━\u001b[0m\u001b[37m\u001b[0m \u001b[1m0s\u001b[0m 2ms/step - loss: 6334.5015 - mean_absolute_error: 63.7222 - val_loss: 5552.5562 - val_mean_absolute_error: 57.7570\n",
      "Epoch 18/100\n",
      "\u001b[1m59/59\u001b[0m \u001b[32m━━━━━━━━━━━━━━━━━━━━\u001b[0m\u001b[37m\u001b[0m \u001b[1m0s\u001b[0m 1ms/step - loss: 6387.6592 - mean_absolute_error: 63.6772 - val_loss: 5521.9326 - val_mean_absolute_error: 57.4786\n",
      "Epoch 19/100\n",
      "\u001b[1m59/59\u001b[0m \u001b[32m━━━━━━━━━━━━━━━━━━━━\u001b[0m\u001b[37m\u001b[0m \u001b[1m0s\u001b[0m 2ms/step - loss: 5518.4829 - mean_absolute_error: 58.5842 - val_loss: 5517.7173 - val_mean_absolute_error: 57.4570\n",
      "Epoch 20/100\n",
      "\u001b[1m59/59\u001b[0m \u001b[32m━━━━━━━━━━━━━━━━━━━━\u001b[0m\u001b[37m\u001b[0m \u001b[1m0s\u001b[0m 5ms/step - loss: 5862.9019 - mean_absolute_error: 61.4726 - val_loss: 5509.1123 - val_mean_absolute_error: 57.4692\n",
      "Epoch 21/100\n",
      "\u001b[1m59/59\u001b[0m \u001b[32m━━━━━━━━━━━━━━━━━━━━\u001b[0m\u001b[37m\u001b[0m \u001b[1m1s\u001b[0m 8ms/step - loss: 6215.4385 - mean_absolute_error: 64.0857 - val_loss: 5480.2207 - val_mean_absolute_error: 57.2351\n",
      "Epoch 22/100\n",
      "\u001b[1m59/59\u001b[0m \u001b[32m━━━━━━━━━━━━━━━━━━━━\u001b[0m\u001b[37m\u001b[0m \u001b[1m0s\u001b[0m 4ms/step - loss: 6072.4941 - mean_absolute_error: 62.8933 - val_loss: 5470.9751 - val_mean_absolute_error: 57.2685\n",
      "Epoch 23/100\n",
      "\u001b[1m59/59\u001b[0m \u001b[32m━━━━━━━━━━━━━━━━━━━━\u001b[0m\u001b[37m\u001b[0m \u001b[1m0s\u001b[0m 3ms/step - loss: 5592.7959 - mean_absolute_error: 60.1789 - val_loss: 5448.9961 - val_mean_absolute_error: 57.1208\n",
      "Epoch 24/100\n",
      "\u001b[1m59/59\u001b[0m \u001b[32m━━━━━━━━━━━━━━━━━━━━\u001b[0m\u001b[37m\u001b[0m \u001b[1m0s\u001b[0m 2ms/step - loss: 6053.5244 - mean_absolute_error: 62.8069 - val_loss: 5465.5322 - val_mean_absolute_error: 57.3513\n",
      "Epoch 24: early stopping\n",
      "Restoring model weights from the end of the best epoch: 19.\n",
      "Neural Net Regression MSE: 6364.3892\n",
      "Neural Net Regression MAE: 62.8619\n",
      "\u001b[1m10/10\u001b[0m \u001b[32m━━━━━━━━━━━━━━━━━━━━\u001b[0m\u001b[37m\u001b[0m \u001b[1m0s\u001b[0m 10ms/step\n",
      "Neural Net Regression R²: 0.6891\n"
     ]
    },
    {
     "data": {
      "image/png": "[encoded data removed]",
      "text/plain": [
       "<Figure size 640x480 with 1 Axes>"
      ]
     },
     "metadata": {},
     "output_type": "display_data"
    },
    {
     "name": "stdout",
     "output_type": "stream",
     "text": [
      "\u001b[1m10/10\u001b[0m \u001b[32m━━━━━━━━━━━━━━━━━━━━\u001b[0m\u001b[37m\u001b[0m \u001b[1m0s\u001b[0m 2ms/step \n"
     ]
    },
    {
     "data": {
      "image/png": "[encoded data removed]",
      "text/plain": [
       "<Figure size 600x600 with 1 Axes>"
      ]
     },
     "metadata": {},
     "output_type": "display_data"
    },
    {
     "data": {
      "application/vnd.microsoft.datawrangler.viewer.v0+json": {
       "columns": [
        {
         "name": "index",
         "rawType": "int64",
         "type": "integer"
        },
        {
         "name": "Modelo",
         "rawType": "object",
         "type": "string"
        },
        {
         "name": "MSE",
         "rawType": "float64",
         "type": "float"
        },
        {
         "name": "RMSE",
         "rawType": "float64",
         "type": "float"
        },
        {
         "name": "MAE",
         "rawType": "float64",
         "type": "float"
        },
        {
         "name": "R2",
         "rawType": "float64",
         "type": "float"
        },
        {
         "name": "N_features",
         "rawType": "int64",
         "type": "integer"
        }
       ],
       "ref": "10c6ecd6-3ff3-4299-b50d-f33fd94021a3",
       "rows": [
        [
         "0",
         "Linear Regression",
         "6138.514703049397",
         "78.34867390740827",
         "61.63844090171558",
         "0.700140320263284",
         "12"
        ],
        [
         "1",
         "k-NN Regressor (k=5) escaladas",
         "10640.480296035073",
         "103.15270377471971",
         "80.95204714382575",
         "0.48022426137891117",
         "12"
        ],
        [
         "2",
         "k-NN grid (k=17, comp=12)",
         "9812.593252048388",
         "99.05853447355452",
         "77.47504973898383",
         "0.520665631299342",
         "12"
        ],
        [
         "3",
         "OLS Regression escaladas",
         "6138.514703050962",
         "78.34867390741826",
         "61.638440901721246",
         "0.7001403202632075",
         "12"
        ],
        [
         "4",
         "Decision Tree escaladas",
         "16578.44616230002",
         "128.75731498559614",
         "103.57486324045763",
         "0.19016117135140975",
         "12"
        ],
        [
         "5",
         "Random Forest escaladas",
         "7293.616878855009",
         "85.4026748928569",
         "67.02035016883498",
         "0.6437148516840214",
         "12"
        ],
        [
         "6",
         "AdaBoostRegressor (grid) escaladas",
         "7793.258045795154",
         "88.27943161232493",
         "69.394143089009",
         "0.6193079311911008",
         "12"
        ],
        [
         "7",
         "XGBRegressor (grid) escaladas",
         "6939.093852037422",
         "83.30122359267853",
         "64.6916684542059",
         "0.6610329109252909",
         "12"
        ],
        [
         "8",
         "MLPRegressor",
         "17228.615924349946",
         "131.25782233585147",
         "100.25126820974832",
         "0.15840109484203235",
         "12"
        ],
        [
         "9",
         "KerasNN",
         "6364.388966254465",
         "79.77712056883519",
         "62.86189268302706",
         "0.6891066113773556",
         "12"
        ]
       ],
       "shape": {
        "columns": 6,
        "rows": 10
       }
      },
      "text/html": [
       "<div>\n",
       "<style scoped>\n",
       "    .dataframe tbody tr th:only-of-type {\n",
       "        vertical-align: middle;\n",
       "    }\n",
       "\n",
       "    .dataframe tbody tr th {\n",
       "        vertical-align: top;\n",
       "    }\n",
       "\n",
       "    .dataframe thead th {\n",
       "        text-align: right;\n",
       "    }\n",
       "</style>\n",
       "<table border=\"1\" class=\"dataframe\">\n",
       "  <thead>\n",
       "    <tr style=\"text-align: right;\">\n",
       "      <th></th>\n",
       "      <th>Modelo</th>\n",
       "      <th>MSE</th>\n",
       "      <th>RMSE</th>\n",
       "      <th>MAE</th>\n",
       "      <th>R2</th>\n",
       "      <th>N_features</th>\n",
       "    </tr>\n",
       "  </thead>\n",
       "  <tbody>\n",
       "    <tr>\n",
       "      <th>0</th>\n",
       "      <td>Linear Regression</td>\n",
       "      <td>6138.514703</td>\n",
       "      <td>78.348674</td>\n",
       "      <td>61.638441</td>\n",
       "      <td>0.700140</td>\n",
       "      <td>12</td>\n",
       "    </tr>\n",
       "    <tr>\n",
       "      <th>1</th>\n",
       "      <td>k-NN Regressor (k=5) escaladas</td>\n",
       "      <td>10640.480296</td>\n",
       "      <td>103.152704</td>\n",
       "      <td>80.952047</td>\n",
       "      <td>0.480224</td>\n",
       "      <td>12</td>\n",
       "    </tr>\n",
       "    <tr>\n",
       "      <th>2</th>\n",
       "      <td>k-NN grid (k=17, comp=12)</td>\n",
       "      <td>9812.593252</td>\n",
       "      <td>99.058534</td>\n",
       "      <td>77.475050</td>\n",
       "      <td>0.520666</td>\n",
       "      <td>12</td>\n",
       "    </tr>\n",
       "    <tr>\n",
       "      <th>3</th>\n",
       "      <td>OLS Regression escaladas</td>\n",
       "      <td>6138.514703</td>\n",
       "      <td>78.348674</td>\n",
       "      <td>61.638441</td>\n",
       "      <td>0.700140</td>\n",
       "      <td>12</td>\n",
       "    </tr>\n",
       "    <tr>\n",
       "      <th>4</th>\n",
       "      <td>Decision Tree escaladas</td>\n",
       "      <td>16578.446162</td>\n",
       "      <td>128.757315</td>\n",
       "      <td>103.574863</td>\n",
       "      <td>0.190161</td>\n",
       "      <td>12</td>\n",
       "    </tr>\n",
       "    <tr>\n",
       "      <th>5</th>\n",
       "      <td>Random Forest escaladas</td>\n",
       "      <td>7293.616879</td>\n",
       "      <td>85.402675</td>\n",
       "      <td>67.020350</td>\n",
       "      <td>0.643715</td>\n",
       "      <td>12</td>\n",
       "    </tr>\n",
       "    <tr>\n",
       "      <th>6</th>\n",
       "      <td>AdaBoostRegressor (grid) escaladas</td>\n",
       "      <td>7793.258046</td>\n",
       "      <td>88.279432</td>\n",
       "      <td>69.394143</td>\n",
       "      <td>0.619308</td>\n",
       "      <td>12</td>\n",
       "    </tr>\n",
       "    <tr>\n",
       "      <th>7</th>\n",
       "      <td>XGBRegressor (grid) escaladas</td>\n",
       "      <td>6939.093852</td>\n",
       "      <td>83.301224</td>\n",
       "      <td>64.691668</td>\n",
       "      <td>0.661033</td>\n",
       "      <td>12</td>\n",
       "    </tr>\n",
       "    <tr>\n",
       "      <th>8</th>\n",
       "      <td>MLPRegressor</td>\n",
       "      <td>17228.615924</td>\n",
       "      <td>131.257822</td>\n",
       "      <td>100.251268</td>\n",
       "      <td>0.158401</td>\n",
       "      <td>12</td>\n",
       "    </tr>\n",
       "    <tr>\n",
       "      <th>9</th>\n",
       "      <td>KerasNN</td>\n",
       "      <td>6364.388966</td>\n",
       "      <td>79.777121</td>\n",
       "      <td>62.861893</td>\n",
       "      <td>0.689107</td>\n",
       "      <td>12</td>\n",
       "    </tr>\n",
       "  </tbody>\n",
       "</table>\n",
       "</div>"
      ],
      "text/plain": [
       "                               Modelo           MSE        RMSE         MAE  \\\n",
       "0                   Linear Regression   6138.514703   78.348674   61.638441   \n",
       "1      k-NN Regressor (k=5) escaladas  10640.480296  103.152704   80.952047   \n",
       "2           k-NN grid (k=17, comp=12)   9812.593252   99.058534   77.475050   \n",
       "3            OLS Regression escaladas   6138.514703   78.348674   61.638441   \n",
       "4             Decision Tree escaladas  16578.446162  128.757315  103.574863   \n",
       "5             Random Forest escaladas   7293.616879   85.402675   67.020350   \n",
       "6  AdaBoostRegressor (grid) escaladas   7793.258046   88.279432   69.394143   \n",
       "7       XGBRegressor (grid) escaladas   6939.093852   83.301224   64.691668   \n",
       "8                        MLPRegressor  17228.615924  131.257822  100.251268   \n",
       "9                             KerasNN   6364.388966   79.777121   62.861893   \n",
       "\n",
       "         R2  N_features  \n",
       "0  0.700140          12  \n",
       "1  0.480224          12  \n",
       "2  0.520666          12  \n",
       "3  0.700140          12  \n",
       "4  0.190161          12  \n",
       "5  0.643715          12  \n",
       "6  0.619308          12  \n",
       "7  0.661033          12  \n",
       "8  0.158401          12  \n",
       "9  0.689107          12  "
      ]
     },
     "metadata": {},
     "output_type": "display_data"
    }
   ],
   "source": [
    "def build_regression_model(input_dim):\n",
    "    model = keras.Sequential([\n",
    "        layers.Dense(64, activation='relu', input_shape=(input_dim,)),\n",
    "        layers.Dropout(0.3),\n",
    "        layers.Dense(32, activation='relu'),\n",
    "        layers.Dense(1)\n",
    "    ])\n",
    "    model.compile(\n",
    "        optimizer=keras.optimizers.RMSprop(learning_rate=0.001),\n",
    "        loss='mean_squared_error',\n",
    "        metrics=['mean_absolute_error']\n",
    "    )\n",
    "    return model\n",
    "\n",
    "model_reg = build_regression_model(X_train_scaled.shape[1])\n",
    "\n",
    "early_stop = EarlyStopping(\n",
    "    monitor='mean_absolute_error',\n",
    "    patience=5,\n",
    "    restore_best_weights=True,\n",
    "    verbose=1\n",
    ")\n",
    "\n",
    "history = model_reg.fit(\n",
    "    X_train_scaled, y_train,\n",
    "    validation_split=0.2,\n",
    "    epochs=100,\n",
    "    batch_size=16,\n",
    "    callbacks=[early_stop],\n",
    "    verbose=1\n",
    ")\n",
    "\n",
    "mse_nn, mae_nn = model_reg.evaluate(X_test_scaled, y_test, verbose=0)\n",
    "print(f\"Neural Net Regression MSE: {mse_nn:.4f}\")\n",
    "print(f\"Neural Net Regression MAE: {mae_nn:.4f}\")\n",
    "print(f\"Neural Net Regression R²: {r2_score(y_test, model_reg.predict(X_test_scaled)):.4f}\")\n",
    "\n",
    "plt.figure()\n",
    "plt.plot(history.history['loss'], label='train loss')\n",
    "plt.plot(history.history['val_loss'], label='val loss')\n",
    "plt.xlabel('Epoch')\n",
    "plt.ylabel('MSE Loss')\n",
    "plt.title('Training vs. Validation Loss')\n",
    "plt.legend()\n",
    "plt.grid(True)\n",
    "plt.show()\n",
    "\n",
    "y_pred_nn = model_reg.predict(X_test_scaled).flatten()\n",
    "plt.figure(figsize=(6,6))\n",
    "plt.scatter(y_test, y_pred_nn, alpha=0.6)\n",
    "plt.plot([y_test.min(), y_test.max()],\n",
    "         [y_test.min(), y_test.max()],\n",
    "         'r--', lw=2)\n",
    "plt.xlabel(\"True Targets\")\n",
    "plt.ylabel(\"Predicted Targets\")\n",
    "plt.title(\"Keras NN: True vs. Predicted\")\n",
    "plt.grid(True)\n",
    "plt.show()\n",
    "\n",
    "results_reg.loc[len(results_reg)] = {\n",
    "    'Modelo':    'KerasNN',\n",
    "    'MSE':       mean_squared_error(y_test,   y_pred_nn),\n",
    "    'RMSE':      np.sqrt(mean_squared_error(y_test,   y_pred_nn)),\n",
    "    'MAE':       mean_absolute_error(y_test,  y_pred_nn),\n",
    "    'R2':        r2_score(y_test,            y_pred_nn),\n",
    "    'N_features': n_features\n",
    "}\n",
    "\n",
    "display(results_reg)"
   ]
  },
  {
   "cell_type": "code",
   "execution_count": 23,
   "metadata": {
    "colab": {
     "base_uri": "https://localhost:8080/",
     "height": 363
    },
    "executionInfo": {
     "elapsed": 4,
     "status": "ok",
     "timestamp": 1750988697601,
     "user": {
      "displayName": "Enrique Ulises Báez Gómez Tagle",
      "userId": "07700873673856520178"
     },
     "user_tz": 360
    },
    "id": "rfzlD9Zp52PS",
    "outputId": "aae8f49a-b4aa-49ab-d672-027423afafab"
   },
   "outputs": [
    {
     "data": {
      "application/vnd.microsoft.datawrangler.viewer.v0+json": {
       "columns": [
        {
         "name": "index",
         "rawType": "int64",
         "type": "integer"
        },
        {
         "name": "Modelo",
         "rawType": "object",
         "type": "string"
        },
        {
         "name": "MSE",
         "rawType": "float64",
         "type": "float"
        },
        {
         "name": "RMSE",
         "rawType": "float64",
         "type": "float"
        },
        {
         "name": "MAE",
         "rawType": "float64",
         "type": "float"
        },
        {
         "name": "R2",
         "rawType": "float64",
         "type": "float"
        },
        {
         "name": "N_features",
         "rawType": "int64",
         "type": "integer"
        }
       ],
       "ref": "85662127-afe9-4597-97c7-dab2c73ccf53",
       "rows": [
        [
         "0",
         "Linear Regression",
         "6138.514703049397",
         "78.34867390740827",
         "61.63844090171558",
         "0.700140320263284",
         "12"
        ],
        [
         "3",
         "OLS Regression escaladas",
         "6138.514703050962",
         "78.34867390741826",
         "61.638440901721246",
         "0.7001403202632075",
         "12"
        ],
        [
         "9",
         "KerasNN",
         "6364.388966254465",
         "79.77712056883519",
         "62.86189268302706",
         "0.6891066113773556",
         "12"
        ],
        [
         "7",
         "XGBRegressor (grid) escaladas",
         "6939.093852037422",
         "83.30122359267853",
         "64.6916684542059",
         "0.6610329109252909",
         "12"
        ],
        [
         "5",
         "Random Forest escaladas",
         "7293.616878855009",
         "85.4026748928569",
         "67.02035016883498",
         "0.6437148516840214",
         "12"
        ],
        [
         "6",
         "AdaBoostRegressor (grid) escaladas",
         "7793.258045795154",
         "88.27943161232493",
         "69.394143089009",
         "0.6193079311911008",
         "12"
        ],
        [
         "2",
         "k-NN grid (k=17, comp=12)",
         "9812.593252048388",
         "99.05853447355452",
         "77.47504973898383",
         "0.520665631299342",
         "12"
        ],
        [
         "1",
         "k-NN Regressor (k=5) escaladas",
         "10640.480296035073",
         "103.15270377471971",
         "80.95204714382575",
         "0.48022426137891117",
         "12"
        ],
        [
         "4",
         "Decision Tree escaladas",
         "16578.44616230002",
         "128.75731498559614",
         "103.57486324045763",
         "0.19016117135140975",
         "12"
        ],
        [
         "8",
         "MLPRegressor",
         "17228.615924349946",
         "131.25782233585147",
         "100.25126820974832",
         "0.15840109484203235",
         "12"
        ]
       ],
       "shape": {
        "columns": 6,
        "rows": 10
       }
      },
      "text/html": [
       "<div>\n",
       "<style scoped>\n",
       "    .dataframe tbody tr th:only-of-type {\n",
       "        vertical-align: middle;\n",
       "    }\n",
       "\n",
       "    .dataframe tbody tr th {\n",
       "        vertical-align: top;\n",
       "    }\n",
       "\n",
       "    .dataframe thead th {\n",
       "        text-align: right;\n",
       "    }\n",
       "</style>\n",
       "<table border=\"1\" class=\"dataframe\">\n",
       "  <thead>\n",
       "    <tr style=\"text-align: right;\">\n",
       "      <th></th>\n",
       "      <th>Modelo</th>\n",
       "      <th>MSE</th>\n",
       "      <th>RMSE</th>\n",
       "      <th>MAE</th>\n",
       "      <th>R2</th>\n",
       "      <th>N_features</th>\n",
       "    </tr>\n",
       "  </thead>\n",
       "  <tbody>\n",
       "    <tr>\n",
       "      <th>0</th>\n",
       "      <td>Linear Regression</td>\n",
       "      <td>6138.514703</td>\n",
       "      <td>78.348674</td>\n",
       "      <td>61.638441</td>\n",
       "      <td>0.700140</td>\n",
       "      <td>12</td>\n",
       "    </tr>\n",
       "    <tr>\n",
       "      <th>3</th>\n",
       "      <td>OLS Regression escaladas</td>\n",
       "      <td>6138.514703</td>\n",
       "      <td>78.348674</td>\n",
       "      <td>61.638441</td>\n",
       "      <td>0.700140</td>\n",
       "      <td>12</td>\n",
       "    </tr>\n",
       "    <tr>\n",
       "      <th>9</th>\n",
       "      <td>KerasNN</td>\n",
       "      <td>6364.388966</td>\n",
       "      <td>79.777121</td>\n",
       "      <td>62.861893</td>\n",
       "      <td>0.689107</td>\n",
       "      <td>12</td>\n",
       "    </tr>\n",
       "    <tr>\n",
       "      <th>7</th>\n",
       "      <td>XGBRegressor (grid) escaladas</td>\n",
       "      <td>6939.093852</td>\n",
       "      <td>83.301224</td>\n",
       "      <td>64.691668</td>\n",
       "      <td>0.661033</td>\n",
       "      <td>12</td>\n",
       "    </tr>\n",
       "    <tr>\n",
       "      <th>5</th>\n",
       "      <td>Random Forest escaladas</td>\n",
       "      <td>7293.616879</td>\n",
       "      <td>85.402675</td>\n",
       "      <td>67.020350</td>\n",
       "      <td>0.643715</td>\n",
       "      <td>12</td>\n",
       "    </tr>\n",
       "    <tr>\n",
       "      <th>6</th>\n",
       "      <td>AdaBoostRegressor (grid) escaladas</td>\n",
       "      <td>7793.258046</td>\n",
       "      <td>88.279432</td>\n",
       "      <td>69.394143</td>\n",
       "      <td>0.619308</td>\n",
       "      <td>12</td>\n",
       "    </tr>\n",
       "    <tr>\n",
       "      <th>2</th>\n",
       "      <td>k-NN grid (k=17, comp=12)</td>\n",
       "      <td>9812.593252</td>\n",
       "      <td>99.058534</td>\n",
       "      <td>77.475050</td>\n",
       "      <td>0.520666</td>\n",
       "      <td>12</td>\n",
       "    </tr>\n",
       "    <tr>\n",
       "      <th>1</th>\n",
       "      <td>k-NN Regressor (k=5) escaladas</td>\n",
       "      <td>10640.480296</td>\n",
       "      <td>103.152704</td>\n",
       "      <td>80.952047</td>\n",
       "      <td>0.480224</td>\n",
       "      <td>12</td>\n",
       "    </tr>\n",
       "    <tr>\n",
       "      <th>4</th>\n",
       "      <td>Decision Tree escaladas</td>\n",
       "      <td>16578.446162</td>\n",
       "      <td>128.757315</td>\n",
       "      <td>103.574863</td>\n",
       "      <td>0.190161</td>\n",
       "      <td>12</td>\n",
       "    </tr>\n",
       "    <tr>\n",
       "      <th>8</th>\n",
       "      <td>MLPRegressor</td>\n",
       "      <td>17228.615924</td>\n",
       "      <td>131.257822</td>\n",
       "      <td>100.251268</td>\n",
       "      <td>0.158401</td>\n",
       "      <td>12</td>\n",
       "    </tr>\n",
       "  </tbody>\n",
       "</table>\n",
       "</div>"
      ],
      "text/plain": [
       "                               Modelo           MSE        RMSE         MAE  \\\n",
       "0                   Linear Regression   6138.514703   78.348674   61.638441   \n",
       "3            OLS Regression escaladas   6138.514703   78.348674   61.638441   \n",
       "9                             KerasNN   6364.388966   79.777121   62.861893   \n",
       "7       XGBRegressor (grid) escaladas   6939.093852   83.301224   64.691668   \n",
       "5             Random Forest escaladas   7293.616879   85.402675   67.020350   \n",
       "6  AdaBoostRegressor (grid) escaladas   7793.258046   88.279432   69.394143   \n",
       "2           k-NN grid (k=17, comp=12)   9812.593252   99.058534   77.475050   \n",
       "1      k-NN Regressor (k=5) escaladas  10640.480296  103.152704   80.952047   \n",
       "4             Decision Tree escaladas  16578.446162  128.757315  103.574863   \n",
       "8                        MLPRegressor  17228.615924  131.257822  100.251268   \n",
       "\n",
       "         R2  N_features  \n",
       "0  0.700140          12  \n",
       "3  0.700140          12  \n",
       "9  0.689107          12  \n",
       "7  0.661033          12  \n",
       "5  0.643715          12  \n",
       "6  0.619308          12  \n",
       "2  0.520666          12  \n",
       "1  0.480224          12  \n",
       "4  0.190161          12  \n",
       "8  0.158401          12  "
      ]
     },
     "metadata": {},
     "output_type": "display_data"
    }
   ],
   "source": [
    "results_reg = results_reg.sort_values(by='MSE', ascending=True)\n",
    "display(results_reg)"
   ]
  },
  {
   "cell_type": "code",
   "execution_count": 24,
   "metadata": {
    "colab": {
     "base_uri": "https://localhost:8080/",
     "height": 363
    },
    "executionInfo": {
     "elapsed": 17,
     "status": "ok",
     "timestamp": 1750988697619,
     "user": {
      "displayName": "Enrique Ulises Báez Gómez Tagle",
      "userId": "07700873673856520178"
     },
     "user_tz": 360
    },
    "id": "efwKMm5h53gV",
    "outputId": "7e3b3e3f-c242-40f2-a90c-ccedd03144c8"
   },
   "outputs": [
    {
     "data": {
      "application/vnd.microsoft.datawrangler.viewer.v0+json": {
       "columns": [
        {
         "name": "index",
         "rawType": "int64",
         "type": "integer"
        },
        {
         "name": "Modelo",
         "rawType": "object",
         "type": "string"
        },
        {
         "name": "MSE",
         "rawType": "float64",
         "type": "float"
        },
        {
         "name": "RMSE",
         "rawType": "float64",
         "type": "float"
        },
        {
         "name": "MAE",
         "rawType": "float64",
         "type": "float"
        },
        {
         "name": "R2",
         "rawType": "float64",
         "type": "float"
        },
        {
         "name": "N_features",
         "rawType": "int64",
         "type": "integer"
        }
       ],
       "ref": "cbbd6c77-a778-4bea-a7a1-36679e578c1c",
       "rows": [
        [
         "0",
         "Linear Regression",
         "6138.514703049397",
         "78.34867390740827",
         "61.63844090171558",
         "0.700140320263284",
         "12"
        ],
        [
         "3",
         "OLS Regression escaladas",
         "6138.514703050962",
         "78.34867390741826",
         "61.638440901721246",
         "0.7001403202632075",
         "12"
        ],
        [
         "9",
         "KerasNN",
         "6364.388966254465",
         "79.77712056883519",
         "62.86189268302706",
         "0.6891066113773556",
         "12"
        ],
        [
         "7",
         "XGBRegressor (grid) escaladas",
         "6939.093852037422",
         "83.30122359267853",
         "64.6916684542059",
         "0.6610329109252909",
         "12"
        ],
        [
         "5",
         "Random Forest escaladas",
         "7293.616878855009",
         "85.4026748928569",
         "67.02035016883498",
         "0.6437148516840214",
         "12"
        ],
        [
         "6",
         "AdaBoostRegressor (grid) escaladas",
         "7793.258045795154",
         "88.27943161232493",
         "69.394143089009",
         "0.6193079311911008",
         "12"
        ],
        [
         "2",
         "k-NN grid (k=17, comp=12)",
         "9812.593252048388",
         "99.05853447355452",
         "77.47504973898383",
         "0.520665631299342",
         "12"
        ],
        [
         "1",
         "k-NN Regressor (k=5) escaladas",
         "10640.480296035073",
         "103.15270377471971",
         "80.95204714382575",
         "0.48022426137891117",
         "12"
        ],
        [
         "4",
         "Decision Tree escaladas",
         "16578.44616230002",
         "128.75731498559614",
         "103.57486324045763",
         "0.19016117135140975",
         "12"
        ],
        [
         "8",
         "MLPRegressor",
         "17228.615924349946",
         "131.25782233585147",
         "100.25126820974832",
         "0.15840109484203235",
         "12"
        ]
       ],
       "shape": {
        "columns": 6,
        "rows": 10
       }
      },
      "text/html": [
       "<div>\n",
       "<style scoped>\n",
       "    .dataframe tbody tr th:only-of-type {\n",
       "        vertical-align: middle;\n",
       "    }\n",
       "\n",
       "    .dataframe tbody tr th {\n",
       "        vertical-align: top;\n",
       "    }\n",
       "\n",
       "    .dataframe thead th {\n",
       "        text-align: right;\n",
       "    }\n",
       "</style>\n",
       "<table border=\"1\" class=\"dataframe\">\n",
       "  <thead>\n",
       "    <tr style=\"text-align: right;\">\n",
       "      <th></th>\n",
       "      <th>Modelo</th>\n",
       "      <th>MSE</th>\n",
       "      <th>RMSE</th>\n",
       "      <th>MAE</th>\n",
       "      <th>R2</th>\n",
       "      <th>N_features</th>\n",
       "    </tr>\n",
       "  </thead>\n",
       "  <tbody>\n",
       "    <tr>\n",
       "      <th>0</th>\n",
       "      <td>Linear Regression</td>\n",
       "      <td>6138.514703</td>\n",
       "      <td>78.348674</td>\n",
       "      <td>61.638441</td>\n",
       "      <td>0.700140</td>\n",
       "      <td>12</td>\n",
       "    </tr>\n",
       "    <tr>\n",
       "      <th>3</th>\n",
       "      <td>OLS Regression escaladas</td>\n",
       "      <td>6138.514703</td>\n",
       "      <td>78.348674</td>\n",
       "      <td>61.638441</td>\n",
       "      <td>0.700140</td>\n",
       "      <td>12</td>\n",
       "    </tr>\n",
       "    <tr>\n",
       "      <th>9</th>\n",
       "      <td>KerasNN</td>\n",
       "      <td>6364.388966</td>\n",
       "      <td>79.777121</td>\n",
       "      <td>62.861893</td>\n",
       "      <td>0.689107</td>\n",
       "      <td>12</td>\n",
       "    </tr>\n",
       "    <tr>\n",
       "      <th>7</th>\n",
       "      <td>XGBRegressor (grid) escaladas</td>\n",
       "      <td>6939.093852</td>\n",
       "      <td>83.301224</td>\n",
       "      <td>64.691668</td>\n",
       "      <td>0.661033</td>\n",
       "      <td>12</td>\n",
       "    </tr>\n",
       "    <tr>\n",
       "      <th>5</th>\n",
       "      <td>Random Forest escaladas</td>\n",
       "      <td>7293.616879</td>\n",
       "      <td>85.402675</td>\n",
       "      <td>67.020350</td>\n",
       "      <td>0.643715</td>\n",
       "      <td>12</td>\n",
       "    </tr>\n",
       "    <tr>\n",
       "      <th>6</th>\n",
       "      <td>AdaBoostRegressor (grid) escaladas</td>\n",
       "      <td>7793.258046</td>\n",
       "      <td>88.279432</td>\n",
       "      <td>69.394143</td>\n",
       "      <td>0.619308</td>\n",
       "      <td>12</td>\n",
       "    </tr>\n",
       "    <tr>\n",
       "      <th>2</th>\n",
       "      <td>k-NN grid (k=17, comp=12)</td>\n",
       "      <td>9812.593252</td>\n",
       "      <td>99.058534</td>\n",
       "      <td>77.475050</td>\n",
       "      <td>0.520666</td>\n",
       "      <td>12</td>\n",
       "    </tr>\n",
       "    <tr>\n",
       "      <th>1</th>\n",
       "      <td>k-NN Regressor (k=5) escaladas</td>\n",
       "      <td>10640.480296</td>\n",
       "      <td>103.152704</td>\n",
       "      <td>80.952047</td>\n",
       "      <td>0.480224</td>\n",
       "      <td>12</td>\n",
       "    </tr>\n",
       "    <tr>\n",
       "      <th>4</th>\n",
       "      <td>Decision Tree escaladas</td>\n",
       "      <td>16578.446162</td>\n",
       "      <td>128.757315</td>\n",
       "      <td>103.574863</td>\n",
       "      <td>0.190161</td>\n",
       "      <td>12</td>\n",
       "    </tr>\n",
       "    <tr>\n",
       "      <th>8</th>\n",
       "      <td>MLPRegressor</td>\n",
       "      <td>17228.615924</td>\n",
       "      <td>131.257822</td>\n",
       "      <td>100.251268</td>\n",
       "      <td>0.158401</td>\n",
       "      <td>12</td>\n",
       "    </tr>\n",
       "  </tbody>\n",
       "</table>\n",
       "</div>"
      ],
      "text/plain": [
       "                               Modelo           MSE        RMSE         MAE  \\\n",
       "0                   Linear Regression   6138.514703   78.348674   61.638441   \n",
       "3            OLS Regression escaladas   6138.514703   78.348674   61.638441   \n",
       "9                             KerasNN   6364.388966   79.777121   62.861893   \n",
       "7       XGBRegressor (grid) escaladas   6939.093852   83.301224   64.691668   \n",
       "5             Random Forest escaladas   7293.616879   85.402675   67.020350   \n",
       "6  AdaBoostRegressor (grid) escaladas   7793.258046   88.279432   69.394143   \n",
       "2           k-NN grid (k=17, comp=12)   9812.593252   99.058534   77.475050   \n",
       "1      k-NN Regressor (k=5) escaladas  10640.480296  103.152704   80.952047   \n",
       "4             Decision Tree escaladas  16578.446162  128.757315  103.574863   \n",
       "8                        MLPRegressor  17228.615924  131.257822  100.251268   \n",
       "\n",
       "         R2  N_features  \n",
       "0  0.700140          12  \n",
       "3  0.700140          12  \n",
       "9  0.689107          12  \n",
       "7  0.661033          12  \n",
       "5  0.643715          12  \n",
       "6  0.619308          12  \n",
       "2  0.520666          12  \n",
       "1  0.480224          12  \n",
       "4  0.190161          12  \n",
       "8  0.158401          12  "
      ]
     },
     "metadata": {},
     "output_type": "display_data"
    }
   ],
   "source": [
    "results_reg = results_reg.sort_values(by='R2', ascending=False)\n",
    "display(results_reg)"
   ]
  },
  {
   "cell_type": "code",
   "execution_count": 25,
   "metadata": {
    "colab": {
     "base_uri": "https://localhost:8080/",
     "height": 363
    },
    "executionInfo": {
     "elapsed": 23,
     "status": "ok",
     "timestamp": 1750988697643,
     "user": {
      "displayName": "Enrique Ulises Báez Gómez Tagle",
      "userId": "07700873673856520178"
     },
     "user_tz": 360
    },
    "id": "itlsNnUH56wc",
    "outputId": "9d01e6db-f4e4-4d67-b523-ba5a47936ea0"
   },
   "outputs": [
    {
     "data": {
      "application/vnd.microsoft.datawrangler.viewer.v0+json": {
       "columns": [
        {
         "name": "index",
         "rawType": "int64",
         "type": "integer"
        },
        {
         "name": "Modelo",
         "rawType": "object",
         "type": "string"
        },
        {
         "name": "MSE",
         "rawType": "float64",
         "type": "float"
        },
        {
         "name": "RMSE",
         "rawType": "float64",
         "type": "float"
        },
        {
         "name": "MAE",
         "rawType": "float64",
         "type": "float"
        },
        {
         "name": "R2",
         "rawType": "float64",
         "type": "float"
        },
        {
         "name": "N_features",
         "rawType": "int64",
         "type": "integer"
        }
       ],
       "ref": "cd5cd3bf-056b-46df-babc-6dbc50d24a82",
       "rows": [
        [
         "0",
         "Linear Regression",
         "6138.514703049397",
         "78.34867390740827",
         "61.63844090171558",
         "0.700140320263284",
         "12"
        ],
        [
         "3",
         "OLS Regression escaladas",
         "6138.514703050962",
         "78.34867390741826",
         "61.638440901721246",
         "0.7001403202632075",
         "12"
        ],
        [
         "9",
         "KerasNN",
         "6364.388966254465",
         "79.77712056883519",
         "62.86189268302706",
         "0.6891066113773556",
         "12"
        ],
        [
         "7",
         "XGBRegressor (grid) escaladas",
         "6939.093852037422",
         "83.30122359267853",
         "64.6916684542059",
         "0.6610329109252909",
         "12"
        ],
        [
         "5",
         "Random Forest escaladas",
         "7293.616878855009",
         "85.4026748928569",
         "67.02035016883498",
         "0.6437148516840214",
         "12"
        ],
        [
         "6",
         "AdaBoostRegressor (grid) escaladas",
         "7793.258045795154",
         "88.27943161232493",
         "69.394143089009",
         "0.6193079311911008",
         "12"
        ],
        [
         "2",
         "k-NN grid (k=17, comp=12)",
         "9812.593252048388",
         "99.05853447355452",
         "77.47504973898383",
         "0.520665631299342",
         "12"
        ],
        [
         "1",
         "k-NN Regressor (k=5) escaladas",
         "10640.480296035073",
         "103.15270377471971",
         "80.95204714382575",
         "0.48022426137891117",
         "12"
        ],
        [
         "4",
         "Decision Tree escaladas",
         "16578.44616230002",
         "128.75731498559614",
         "103.57486324045763",
         "0.19016117135140975",
         "12"
        ],
        [
         "8",
         "MLPRegressor",
         "17228.615924349946",
         "131.25782233585147",
         "100.25126820974832",
         "0.15840109484203235",
         "12"
        ]
       ],
       "shape": {
        "columns": 6,
        "rows": 10
       }
      },
      "text/html": [
       "<div>\n",
       "<style scoped>\n",
       "    .dataframe tbody tr th:only-of-type {\n",
       "        vertical-align: middle;\n",
       "    }\n",
       "\n",
       "    .dataframe tbody tr th {\n",
       "        vertical-align: top;\n",
       "    }\n",
       "\n",
       "    .dataframe thead th {\n",
       "        text-align: right;\n",
       "    }\n",
       "</style>\n",
       "<table border=\"1\" class=\"dataframe\">\n",
       "  <thead>\n",
       "    <tr style=\"text-align: right;\">\n",
       "      <th></th>\n",
       "      <th>Modelo</th>\n",
       "      <th>MSE</th>\n",
       "      <th>RMSE</th>\n",
       "      <th>MAE</th>\n",
       "      <th>R2</th>\n",
       "      <th>N_features</th>\n",
       "    </tr>\n",
       "  </thead>\n",
       "  <tbody>\n",
       "    <tr>\n",
       "      <th>0</th>\n",
       "      <td>Linear Regression</td>\n",
       "      <td>6138.514703</td>\n",
       "      <td>78.348674</td>\n",
       "      <td>61.638441</td>\n",
       "      <td>0.700140</td>\n",
       "      <td>12</td>\n",
       "    </tr>\n",
       "    <tr>\n",
       "      <th>3</th>\n",
       "      <td>OLS Regression escaladas</td>\n",
       "      <td>6138.514703</td>\n",
       "      <td>78.348674</td>\n",
       "      <td>61.638441</td>\n",
       "      <td>0.700140</td>\n",
       "      <td>12</td>\n",
       "    </tr>\n",
       "    <tr>\n",
       "      <th>9</th>\n",
       "      <td>KerasNN</td>\n",
       "      <td>6364.388966</td>\n",
       "      <td>79.777121</td>\n",
       "      <td>62.861893</td>\n",
       "      <td>0.689107</td>\n",
       "      <td>12</td>\n",
       "    </tr>\n",
       "    <tr>\n",
       "      <th>7</th>\n",
       "      <td>XGBRegressor (grid) escaladas</td>\n",
       "      <td>6939.093852</td>\n",
       "      <td>83.301224</td>\n",
       "      <td>64.691668</td>\n",
       "      <td>0.661033</td>\n",
       "      <td>12</td>\n",
       "    </tr>\n",
       "    <tr>\n",
       "      <th>5</th>\n",
       "      <td>Random Forest escaladas</td>\n",
       "      <td>7293.616879</td>\n",
       "      <td>85.402675</td>\n",
       "      <td>67.020350</td>\n",
       "      <td>0.643715</td>\n",
       "      <td>12</td>\n",
       "    </tr>\n",
       "    <tr>\n",
       "      <th>6</th>\n",
       "      <td>AdaBoostRegressor (grid) escaladas</td>\n",
       "      <td>7793.258046</td>\n",
       "      <td>88.279432</td>\n",
       "      <td>69.394143</td>\n",
       "      <td>0.619308</td>\n",
       "      <td>12</td>\n",
       "    </tr>\n",
       "    <tr>\n",
       "      <th>2</th>\n",
       "      <td>k-NN grid (k=17, comp=12)</td>\n",
       "      <td>9812.593252</td>\n",
       "      <td>99.058534</td>\n",
       "      <td>77.475050</td>\n",
       "      <td>0.520666</td>\n",
       "      <td>12</td>\n",
       "    </tr>\n",
       "    <tr>\n",
       "      <th>1</th>\n",
       "      <td>k-NN Regressor (k=5) escaladas</td>\n",
       "      <td>10640.480296</td>\n",
       "      <td>103.152704</td>\n",
       "      <td>80.952047</td>\n",
       "      <td>0.480224</td>\n",
       "      <td>12</td>\n",
       "    </tr>\n",
       "    <tr>\n",
       "      <th>4</th>\n",
       "      <td>Decision Tree escaladas</td>\n",
       "      <td>16578.446162</td>\n",
       "      <td>128.757315</td>\n",
       "      <td>103.574863</td>\n",
       "      <td>0.190161</td>\n",
       "      <td>12</td>\n",
       "    </tr>\n",
       "    <tr>\n",
       "      <th>8</th>\n",
       "      <td>MLPRegressor</td>\n",
       "      <td>17228.615924</td>\n",
       "      <td>131.257822</td>\n",
       "      <td>100.251268</td>\n",
       "      <td>0.158401</td>\n",
       "      <td>12</td>\n",
       "    </tr>\n",
       "  </tbody>\n",
       "</table>\n",
       "</div>"
      ],
      "text/plain": [
       "                               Modelo           MSE        RMSE         MAE  \\\n",
       "0                   Linear Regression   6138.514703   78.348674   61.638441   \n",
       "3            OLS Regression escaladas   6138.514703   78.348674   61.638441   \n",
       "9                             KerasNN   6364.388966   79.777121   62.861893   \n",
       "7       XGBRegressor (grid) escaladas   6939.093852   83.301224   64.691668   \n",
       "5             Random Forest escaladas   7293.616879   85.402675   67.020350   \n",
       "6  AdaBoostRegressor (grid) escaladas   7793.258046   88.279432   69.394143   \n",
       "2           k-NN grid (k=17, comp=12)   9812.593252   99.058534   77.475050   \n",
       "1      k-NN Regressor (k=5) escaladas  10640.480296  103.152704   80.952047   \n",
       "4             Decision Tree escaladas  16578.446162  128.757315  103.574863   \n",
       "8                        MLPRegressor  17228.615924  131.257822  100.251268   \n",
       "\n",
       "         R2  N_features  \n",
       "0  0.700140          12  \n",
       "3  0.700140          12  \n",
       "9  0.689107          12  \n",
       "7  0.661033          12  \n",
       "5  0.643715          12  \n",
       "6  0.619308          12  \n",
       "2  0.520666          12  \n",
       "1  0.480224          12  \n",
       "4  0.190161          12  \n",
       "8  0.158401          12  "
      ]
     },
     "metadata": {},
     "output_type": "display_data"
    }
   ],
   "source": [
    "results_reg = results_reg.sort_values(by=['MSE', 'R2'], ascending=[True, False])\n",
    "display(results_reg)"
   ]
  },
  {
   "cell_type": "markdown",
   "metadata": {
    "id": "WBfuNmoNwBze"
   },
   "source": [
    "# Comentarios"
   ]
  },
  {
   "cell_type": "markdown",
   "metadata": {
    "id": "wYYyLVSVE1K3"
   },
   "source": [
    "* Se entrenaron y compararon 9 modelos de regresión: Regresión Lineal, OLS, K‑NN, Árbol de Decisión, Random Forest, AdaBoost, XGBoost, un MLP de *scikit‑learn* y una red neuronal densa en Keras, todos con la misma partición 80 / 20 y variables escaladas cuando era necesario.\n",
    "\n",
    "* Las métricas de referencia muestran que la Regresión Lineal simple lidera con MSE ≈ 6 139, RMSE ≈ 78 y R² ≈ 0.70; el modelo OLS alcanza las mismas métricas.\n",
    "\n",
    "* Se aplicó regularización con Ridge (α=1.0) y Lasso (α=0.1):\n",
    "  * Ridge obtuvo MSE ≈ 6 139, RMSE ≈ 78.35, MAE ≈ 61.64 y R² ≈ 0.7001.\n",
    "  * Lasso obtuvo MSE ≈ 6 135, RMSE ≈ 78.33, MAE ≈ 61.63 y R² ≈ 0.7003.\n",
    "\n",
    "  Los QQ-plots de residuos de ambos modelos (Ridge y Lasso) muestran una excelente aproximación a la normalidad, pero la regularización no mejoró el R² ni redujo de forma significativa el error respecto al modelo lineal sin penalización.\n",
    "\n",
    "* Aún con ensambles no mejoró el desempeño:\n",
    "  * Random Forest (100 árboles) alcanza R² 0.64.\n",
    "  * AdaBoost óptimo con 150 stumps y learning\\_rate 1.0 se queda en R² 0.62.\n",
    "  * XGBoost con 100 árboles (profundidad 3, eta 0.1) llega a R² 0.66.\n",
    "      \n",
    "  El grid search confirma que aumentar la complejidad no aporta una ganancia real.\n",
    "\n",
    "* K‑NN, aún tras probar distintos valores de k y aplicar reducción de dimensión con PCA, no se logró un buen desempeño: obtiene RMSE ≈ 99 y R² ≈ 0.52. Esto se debe a que, aunque las variables están escaladas, ninguna de ellas tiene relación significativa con la varlable objetivo.\n",
    "\n",
    "* El Árbol de Decisión y el MLP muestran error de entrenamiento casi nulo pero caen a R² ≤ 0.19 y 0.18 en prueba, lo que podría indicar un sobreajuste.\n",
    "\n",
    "* Sugerimos elegir entre Regresión Lineal/OLS por su transparencia, costo computacional mínimo y desempeño destacado.\n"
   ]
  },
  {
   "cell_type": "code",
   "execution_count": null,
   "metadata": {
    "id": "tKDm5I9OMLSZ"
   },
   "outputs": [],
   "source": []
  }
 ],
 "metadata": {
  "colab": {
   "collapsed_sections": [
    "k-J7tduIgJ0D",
    "xIGuQAFUkajM",
    "fZXwFRRPslrQ",
    "uCwvTWUqs819",
    "PtZ0a8x8t62a",
    "VZZ2e8zutp3G",
    "eWmyj1lovKcs",
    "Q-eXeEghvNXQ",
    "tGahpcp6v83b"
   ],
   "provenance": []
  },
  "kernelspec": {
   "display_name": "ML",
   "language": "python",
   "name": "python3"
  },
  "language_info": {
   "codemirror_mode": {
    "name": "ipython",
    "version": 3
   },
   "file_extension": ".py",
   "mimetype": "text/x-python",
   "name": "python",
   "nbconvert_exporter": "python",
   "pygments_lexer": "ipython3",
   "version": "3.11.11"
  }
 },
 "nbformat": 4,
 "nbformat_minor": 0
}
